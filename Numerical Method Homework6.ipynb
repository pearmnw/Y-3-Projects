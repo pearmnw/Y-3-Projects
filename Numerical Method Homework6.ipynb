{
 "cells": [
  {
   "cell_type": "markdown",
   "metadata": {},
   "source": [
    "1.Find out whether a matrix is a diagonal matrix.  (First check whether the matrix is a square matrix and then check whether the non diagonal elements are zeroes).\n",
    "\n",
    "2.Find out whether a matrix is a skew-symmetric matrix.  (First check whether the matrix is a square matrix and then check whether a_ij = - a_ji)\n",
    "\n",
    "3.Find an inverse of a matrix by finding its determinant, minor, cofactor and adjugate."
   ]
  },
  {
   "cell_type": "code",
   "execution_count": 1,
   "metadata": {},
   "outputs": [],
   "source": [
    "import numpy as np"
   ]
  },
  {
   "cell_type": "code",
   "execution_count": 2,
   "metadata": {},
   "outputs": [],
   "source": [
    "def issquare(r,c):\n",
    "    if r == c:\n",
    "        return True\n",
    "    else: False"
   ]
  },
  {
   "cell_type": "code",
   "execution_count": 3,
   "metadata": {},
   "outputs": [],
   "source": [
    "def isdiagonal(m,r,c):\n",
    "    if(issquare(r,c)):\n",
    "        for i in range(r):\n",
    "            for j in range(c):\n",
    "                if i != j and m[i][j] != 0:\n",
    "                    \n",
    "                    return False\n",
    "        return True\n",
    "    else: print('Not a square Matrix')\n"
   ]
  },
  {
   "cell_type": "code",
   "execution_count": 4,
   "metadata": {},
   "outputs": [
    {
     "name": "stdout",
     "output_type": "stream",
     "text": [
      "Matrix is a diagonal matrix\n"
     ]
    }
   ],
   "source": [
    "m = np.array([[3, 0, 0],[0, 4, 0],[0, 0, 10]])\n",
    "r,c = m.shape\n",
    "if(isdiagonal(m,r,c)):\n",
    "    print('Matrix is a diagonal matrix')\n",
    "else: \n",
    "    print('Matrix is not a diagonal matrix')\n"
   ]
  },
  {
   "cell_type": "code",
   "execution_count": 5,
   "metadata": {},
   "outputs": [],
   "source": [
    "def isskew_symmetric(m,r,c):\n",
    "    if(issquare(r,c)):\n",
    "        mt = m.transpose()\n",
    "        print('matrix:\\n',m)\n",
    "        print('matrix transpose:\\n',mt)\n",
    "        print('(-1)*matrix:\\n',(-1)*m)\n",
    "        if(mt == -m).all():\n",
    "            return True\n",
    "        else:\n",
    "            return False\n",
    "    else: print('Not a square Matrix')"
   ]
  },
  {
   "cell_type": "code",
   "execution_count": 6,
   "metadata": {},
   "outputs": [
    {
     "name": "stdout",
     "output_type": "stream",
     "text": [
      "matrix:\n",
      " [[ 0  5 -4]\n",
      " [-5  0  1]\n",
      " [ 4 -1  0]]\n",
      "matrix transpose:\n",
      " [[ 0 -5  4]\n",
      " [ 5  0 -1]\n",
      " [-4  1  0]]\n",
      "(-1)*matrix:\n",
      " [[ 0 -5  4]\n",
      " [ 5  0 -1]\n",
      " [-4  1  0]]\n",
      "Matrix is a skew-symmetric matrix\n"
     ]
    }
   ],
   "source": [
    "m = np.array([[0, 5, -4],[-5, 0, 1],[4, -1, 0]])\n",
    "r,c = m.shape\n",
    "if(isskew_symmetric(m,r,c)):\n",
    "    print('Matrix is a skew-symmetric matrix')\n",
    "else: \n",
    "    print('Matrix is not a skew-symmetric matrix')\n"
   ]
  },
  {
   "cell_type": "code",
   "execution_count": 7,
   "metadata": {},
   "outputs": [],
   "source": [
    "def det(m):\n",
    "    (nr,nc) = m.shape\n",
    "    if issquare(nr,nc) == False:\n",
    "        print('Not a square Matrix')\n",
    "        return m\n",
    "    #end if\n",
    "\n",
    "    if nr == 1 and nc == 1:\n",
    "        return m[0,0]\n",
    "    else:\n",
    "        D = 0\n",
    "        for r in range(0,1):\n",
    "            for c in range(0,nc):\n",
    "                reducedmat = m.copy()\n",
    "                reducedmat = np.delete(reducedmat,r,0)\n",
    "                reducedmat = np.delete(reducedmat,c,1)\n",
    "                D = D + (((-1)**((r+1)+(c+1))) * m[r,c] * det(reducedmat))\n",
    "    #end if\n",
    "    return D"
   ]
  },
  {
   "cell_type": "code",
   "execution_count": 8,
   "metadata": {},
   "outputs": [
    {
     "name": "stdout",
     "output_type": "stream",
     "text": [
      "[[ 2 -2  2]\n",
      " [ 2  3 -3]\n",
      " [ 0 10  0]]\n",
      "det(C) = 100.000000\n"
     ]
    }
   ],
   "source": [
    "C = np.array([[2,-2,2],\n",
    "              [2,3,-3],\n",
    "              [0,10,0]])\n",
    "print(C)\n",
    "print('det(C) = %f' %(np.linalg.det(C)))"
   ]
  },
  {
   "cell_type": "code",
   "execution_count": 9,
   "metadata": {},
   "outputs": [
    {
     "name": "stdout",
     "output_type": "stream",
     "text": [
      "[[ 2 -2  2 -1]\n",
      " [ 2  3 -3  1]\n",
      " [ 0 10  0  5]\n",
      " [-2  4  1  3]]\n",
      "det(C) = 70.000000\n"
     ]
    }
   ],
   "source": [
    "C = np.array([[2,-2,2,-1],\n",
    "              [2,3,-3,1],\n",
    "              [0,10,0,5],\n",
    "              [-2,4,1,3]])\n",
    "print(C)\n",
    "print('det(C) = %f' %(np.linalg.det(C)))"
   ]
  },
  {
   "cell_type": "code",
   "execution_count": 10,
   "metadata": {},
   "outputs": [
    {
     "name": "stdout",
     "output_type": "stream",
     "text": [
      "calculat det = 70.000000\n"
     ]
    }
   ],
   "source": [
    "print('calculat det = %f' %(det(C)))"
   ]
  },
  {
   "cell_type": "code",
   "execution_count": 11,
   "metadata": {},
   "outputs": [],
   "source": [
    "def transpose(matrix):\n",
    "    return [[row[i] for row in matrix] for i in range(len(matrix[0]))]"
   ]
  },
  {
   "cell_type": "code",
   "execution_count": 12,
   "metadata": {},
   "outputs": [],
   "source": [
    "def Minor(arr,i,j):\n",
    "    c = arr[:]\n",
    "    c_r = np.delete(c, (i),axis=0) # deletes i-th row\n",
    "    c_c = np.delete(c_r, (j),axis=1) #deletes j-th column\n",
    "    return c_c"
   ]
  },
  {
   "cell_type": "code",
   "execution_count": 13,
   "metadata": {},
   "outputs": [],
   "source": [
    "def inverse(m):\n",
    "    determinant = det(m)\n",
    "\n",
    "    #find matrix of cofactors\n",
    "    cofactors = []\n",
    "    for r in range(len(m)):\n",
    "        cofactorRow = []\n",
    "        for c in range(len(m)):\n",
    "            minor = Minor(m,r,c)\n",
    "            cofactorRow.append(((-1)**(r+c)) * det(minor))\n",
    "        cofactors.append(cofactorRow)\n",
    "    cofactors = transpose(cofactors)\n",
    "    for r in range(len(cofactors)):\n",
    "        for c in range(len(cofactors)):\n",
    "            cofactors[r][c] = round(cofactors[r][c]/determinant,8)\n",
    "    return cofactors"
   ]
  },
  {
   "cell_type": "code",
   "execution_count": 14,
   "metadata": {},
   "outputs": [
    {
     "name": "stdout",
     "output_type": "stream",
     "text": [
      "[[ 2  3 -4 -1]\n",
      " [ 4  2 -3 11]\n",
      " [ 3 -9  2 -5]\n",
      " [ 7 10 -8  1]]\n",
      "Inverse of I matrix by code = \n",
      "[[-0.33769776, -0.00109111, 0.10420076, 0.19530824], [-0.2487725, -0.06219313, -0.06055646, 0.13256956], [-0.6061102, -0.06819422, 0.01254774, 0.20676487], [0.00272777, 0.08401528, -0.02345881, -0.03873432]]\n",
      "Inverse of I matrix by numpy = \n",
      "[[-0.33769776 -0.00109111  0.10420076  0.19530824]\n",
      " [-0.2487725  -0.06219313 -0.06055646  0.13256956]\n",
      " [-0.6061102  -0.06819422  0.01254774  0.20676487]\n",
      " [ 0.00272777  0.08401528 -0.02345881 -0.03873432]]\n"
     ]
    }
   ],
   "source": [
    "I = np.array([[2,3,-4,-1],\n",
    "              [4,2,-3,11],\n",
    "              [3,-9,2,-5],\n",
    "              [7,10,-8,1]])\n",
    "print(I)\n",
    "print('Inverse of I matrix by code = ')\n",
    "print(inverse(I))\n",
    "print('Inverse of I matrix by numpy = ')\n",
    "print(np.linalg.inv(I))"
   ]
  }
 ],
 "metadata": {
  "interpreter": {
   "hash": "6d46af94c2bbce495f1e668725902fa517c90b1782bcfe2fce0dd9868df553d3"
  },
  "kernelspec": {
   "display_name": "Python 3.8.8 64-bit ('base': conda)",
   "name": "python3"
  },
  "language_info": {
   "codemirror_mode": {
    "name": "ipython",
    "version": 3
   },
   "file_extension": ".py",
   "mimetype": "text/x-python",
   "name": "python",
   "nbconvert_exporter": "python",
   "pygments_lexer": "ipython3",
   "version": "3.8.8"
  },
  "orig_nbformat": 4
 },
 "nbformat": 4,
 "nbformat_minor": 2
}
