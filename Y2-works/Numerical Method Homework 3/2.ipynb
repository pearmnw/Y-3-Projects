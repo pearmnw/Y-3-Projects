{
 "cells": [
  {
   "cell_type": "code",
   "execution_count": 1,
   "source": [
    "# Name: Apichaya Maneewong\r\n",
    "# StudentID: 6388126\r\n",
    "# Section: 2\r\n",
    "# 2. Solve function f(x) = x^3 -6x^2 + 4x + 12 = 0 \r\n",
    "# (find all x's that makes f(x) = 0) between region [-2, 6] \r\n",
    "# using the Bisection method implemented as a recursive function.  \r\n",
    "# Since the region [-2, 6] has multiple roots, \r\n",
    "# you should use the interval search method to locate small intervals that contains single roots first and then apply bisection method.\r\n",
    "# Check your answer using wolframalpha.com."
   ],
   "outputs": [],
   "metadata": {}
  },
  {
   "cell_type": "code",
   "execution_count": 2,
   "source": [
    "import numpy as np\r\n",
    "keep1 = [] # list to keep the fisrt interval\r\n",
    "keep2 = [] # list to keep the last interval"
   ],
   "outputs": [],
   "metadata": {}
  },
  {
   "cell_type": "code",
   "execution_count": 3,
   "source": [
    "# TODO: fine the answer of each function when x=...\r\n",
    "def f(x):\r\n",
    "    return (x**3)-6*(x**2)+(4*x)+12\r\n",
    "#end function\r\n",
    "\r\n",
    "x = np.arange(-2,6,0.4) # create region [-2, 6]\r\n",
    "# TODO: # fine the big interval of the fuction, keep it in the list and print out.\r\n",
    "for i in range(0,len(x)-1):\r\n",
    "    yl = f(x[i])\r\n",
    "    yu = f(x[i+1])\r\n",
    "    if((yl*yu)<0):\r\n",
    "        keep1.append(x[i])\r\n",
    "        keep2.append(x[i+1])\r\n",
    "        print(\"This is Divide and Conquer from [%2.4f, %2.4f]\" %(x[i],x[i+1]))"
   ],
   "outputs": [
    {
     "output_type": "stream",
     "name": "stdout",
     "text": [
      "This is Divide and Conquer from [-1.2000, -0.8000]\n",
      "This is Divide and Conquer from [2.4000, 2.8000]\n",
      "This is Divide and Conquer from [4.4000, 4.8000]\n"
     ]
    }
   ],
   "metadata": {}
  },
  {
   "cell_type": "code",
   "execution_count": 4,
   "source": [
    "# TODO: Bisection method (Recursive)\r\n",
    "def bisection(f,xl,xu,eps,xr_prev):\r\n",
    "    xr = (xl+xu)/2\r\n",
    "    epa = abs((xr-xr_prev)/xr)*100\r\n",
    "    if epa > eps:\r\n",
    "        if f(xl) * f(xr) < 0:\r\n",
    "            output = bisection(f, xl, xr, eps, xr)\r\n",
    "        else:\r\n",
    "            output = bisection(f, xr, xu, eps, xr)\r\n",
    "        print('xr = %3.4f and epa = %3.4f' %(xr,epa))\r\n",
    "        return output\r\n",
    "    else: return xr\r\n",
    "#end function"
   ],
   "outputs": [],
   "metadata": {}
  },
  {
   "cell_type": "code",
   "execution_count": 5,
   "source": [
    "eps = 0.5*10**(2-4) # The declaration of eps\r\n",
    "# TODO: Find the root from each interval.\r\n",
    "for j in range(len(keep1)):\r\n",
    "    print(\"This is Divide and Conquer from [\"+ str(round(keep1[j],2))+\", \"+str(round(keep2[j],2))+\"]\")\r\n",
    "    myroot1 = bisection(f,round(keep1[j],2), round(keep2[j],2), eps, 1)\r\n",
    "    print('The root = %5.4f' %(myroot1))\r\n",
    "    print(\"=============================================\")"
   ],
   "outputs": [
    {
     "output_type": "stream",
     "name": "stdout",
     "text": [
      "This is Divide and Conquer from [-1.2, -0.8]\n",
      "xr = -1.0515 and epa = 0.0093\n",
      "xr = -1.0514 and epa = 0.0186\n",
      "xr = -1.0512 and epa = 0.0372\n",
      "xr = -1.0508 and epa = 0.0743\n",
      "xr = -1.0516 and epa = 0.1486\n",
      "xr = -1.0531 and epa = 0.2967\n",
      "xr = -1.0562 and epa = 0.5917\n",
      "xr = -1.0625 and epa = 1.1765\n",
      "xr = -1.0750 and epa = 2.3256\n",
      "xr = -1.0500 and epa = 4.7619\n",
      "xr = -1.1000 and epa = 9.0909\n",
      "xr = -1.0000 and epa = 200.0000\n",
      "The root = -1.0514\n",
      "=============================================\n",
      "This is Divide and Conquer from [2.4, 2.8]\n",
      "xr = 2.5174 and epa = 0.0078\n",
      "xr = 2.5176 and epa = 0.0155\n",
      "xr = 2.5180 and epa = 0.0310\n",
      "xr = 2.5172 and epa = 0.0621\n",
      "xr = 2.5156 and epa = 0.1242\n",
      "xr = 2.5187 and epa = 0.2481\n",
      "xr = 2.5125 and epa = 0.4975\n",
      "xr = 2.5250 and epa = 0.9901\n",
      "xr = 2.5500 and epa = 1.9608\n",
      "xr = 2.5000 and epa = 4.0000\n",
      "xr = 2.6000 and epa = 61.5385\n",
      "The root = 2.5173\n",
      "=============================================\n",
      "This is Divide and Conquer from [4.4, 4.8]\n",
      "xr = 4.5340 and epa = 0.0086\n",
      "xr = 4.5336 and epa = 0.0172\n",
      "xr = 4.5328 and epa = 0.0345\n",
      "xr = 4.5344 and epa = 0.0689\n",
      "xr = 4.5312 and epa = 0.1379\n",
      "xr = 4.5375 and epa = 0.2755\n",
      "xr = 4.5250 and epa = 0.5525\n",
      "xr = 4.5500 and epa = 1.0989\n",
      "xr = 4.5000 and epa = 2.2222\n",
      "xr = 4.6000 and epa = 78.2609\n",
      "The root = 4.5342\n",
      "=============================================\n"
     ]
    }
   ],
   "metadata": {}
  }
 ],
 "metadata": {
  "orig_nbformat": 4,
  "language_info": {
   "name": "python",
   "version": "3.8.8",
   "mimetype": "text/x-python",
   "codemirror_mode": {
    "name": "ipython",
    "version": 3
   },
   "pygments_lexer": "ipython3",
   "nbconvert_exporter": "python",
   "file_extension": ".py"
  },
  "kernelspec": {
   "name": "python3",
   "display_name": "Python 3.8.8 64-bit ('base': conda)"
  },
  "interpreter": {
   "hash": "6d46af94c2bbce495f1e668725902fa517c90b1782bcfe2fce0dd9868df553d3"
  }
 },
 "nbformat": 4,
 "nbformat_minor": 2
}