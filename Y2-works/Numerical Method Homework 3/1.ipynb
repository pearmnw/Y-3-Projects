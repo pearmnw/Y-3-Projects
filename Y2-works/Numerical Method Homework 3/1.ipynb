{
 "cells": [
  {
   "cell_type": "code",
   "execution_count": 1,
   "source": [
    "# Name: Apichaya Maneewong\r\n",
    "# StudentID: 6388126\r\n",
    "# Section: 2\r\n",
    "# 1. Solve function f(x) = x^3 -6x^2 + 4x + 12 = 0 \r\n",
    "# (find all x's that makes f(x) = 0) \r\n",
    "# using the divide and conquer method between region [-2, 6]  \r\n",
    "# together with interval search (search for the intervals that should contain the root of the function).\r\n",
    "# Check your answer using wolframalpha.com."
   ],
   "outputs": [],
   "metadata": {}
  },
  {
   "cell_type": "code",
   "execution_count": 2,
   "source": [
    "import matplotlib.pyplot as plt\r\n",
    "import numpy as np\r\n",
    "keep1 = [] # list to keep the fisrt interval\r\n",
    "keep2 = [] # list to keep the last interval"
   ],
   "outputs": [],
   "metadata": {}
  },
  {
   "cell_type": "code",
   "execution_count": 3,
   "source": [
    "# TODO: fine the answer of each function when x=...\r\n",
    "def f(x):\r\n",
    "    return (x**3)-6*(x**2)+(4*x)+12\r\n",
    "#end function"
   ],
   "outputs": [],
   "metadata": {}
  },
  {
   "cell_type": "code",
   "execution_count": 4,
   "source": [
    "x = np.arange(-2,6,0.1)\r\n",
    "y = f(x)\r\n",
    "print(len(x))\r\n",
    "z = [0 for i in range(0,80)]\r\n",
    "plt.plot(x,y,'b-',x,z,'k-') # plot graph"
   ],
   "outputs": [
    {
     "output_type": "stream",
     "name": "stdout",
     "text": [
      "80\n"
     ]
    },
    {
     "output_type": "execute_result",
     "data": {
      "text/plain": [
       "[<matplotlib.lines.Line2D at 0x22696eb64f0>,\n",
       " <matplotlib.lines.Line2D at 0x22696eb65e0>]"
      ]
     },
     "metadata": {},
     "execution_count": 4
    },
    {
     "output_type": "display_data",
     "data": {
      "image/png": "[encoded data removed]",
      "text/plain": [
       "<Figure size 432x288 with 1 Axes>"
      ]
     },
     "metadata": {
      "needs_background": "light"
     }
    }
   ],
   "metadata": {}
  },
  {
   "cell_type": "code",
   "execution_count": 5,
   "source": [
    "step = [0.1, 0.01, 0.001, 0.0001,0.00001] # list of step that will use for x\r\n",
    "def findDnC(front, back ,step, count): # The fuction to find each root\r\n",
    "    x = np.arange(front, back, step)\r\n",
    "    for i in range(0,len(x)-1):\r\n",
    "        yl = f(x[i])\r\n",
    "        yu = f(x[i+1])\r\n",
    "        if((yl*yu)<0):\r\n",
    "            if count == 0:\r\n",
    "                keep1.append(x[i])\r\n",
    "                keep2.append(x[i+1])\r\n",
    "                print(\"This is Divide and Conquer from [%2.4f, %2.4f]\" %(x[i],x[i+1]))\r\n",
    "                print('===============================================')\r\n",
    "            else:\r\n",
    "                print(\"There is a root in [%2.4f, %2.4f]\" %(x[i],x[i+1]))"
   ],
   "outputs": [],
   "metadata": {}
  },
  {
   "cell_type": "code",
   "execution_count": 6,
   "source": [
    "count = 0 # to count how many time of the loop\r\n",
    "findDnC(-2, 6, 0.4, count) # fine the big interval of the fuction\r\n",
    "count = 1\r\n",
    "for i in range(len(keep1)):\r\n",
    "    print(\"This is Divide and Conquer from [%2.4f, %2.4f]\" %(keep1[i], keep2[i]))\r\n",
    "    for j in range(len(step)):\r\n",
    "        findDnC(keep1[i], keep2[i], step[j], count)\r\n",
    "        count += 1\r\n",
    "    if count > 13: # to brake the loop\r\n",
    "        break"
   ],
   "outputs": [
    {
     "output_type": "stream",
     "name": "stdout",
     "text": [
      "This is Divide and Conquer from [-1.2000, -0.8000]\n",
      "===============================================\n",
      "This is Divide and Conquer from [2.4000, 2.8000]\n",
      "===============================================\n",
      "This is Divide and Conquer from [4.4000, 4.8000]\n",
      "===============================================\n",
      "This is Divide and Conquer from [-1.2000, -0.8000]\n",
      "There is a root in [-1.1000, -1.0000]\n",
      "There is a root in [-1.0600, -1.0500]\n",
      "There is a root in [-1.0520, -1.0510]\n",
      "There is a root in [-1.0514, -1.0513]\n",
      "There is a root in [-1.0514, -1.0514]\n",
      "This is Divide and Conquer from [2.4000, 2.8000]\n",
      "There is a root in [2.5000, 2.6000]\n",
      "There is a root in [2.5100, 2.5200]\n",
      "There is a root in [2.5170, 2.5180]\n",
      "There is a root in [2.5173, 2.5174]\n",
      "There is a root in [2.5173, 2.5173]\n",
      "This is Divide and Conquer from [4.4000, 4.8000]\n",
      "There is a root in [4.5000, 4.6000]\n",
      "There is a root in [4.5300, 4.5400]\n",
      "There is a root in [4.5340, 4.5350]\n",
      "There is a root in [4.5340, 4.5341]\n",
      "There is a root in [4.5341, 4.5341]\n"
     ]
    }
   ],
   "metadata": {}
  }
 ],
 "metadata": {
  "orig_nbformat": 4,
  "language_info": {
   "name": "python",
   "version": "3.8.8",
   "mimetype": "text/x-python",
   "codemirror_mode": {
    "name": "ipython",
    "version": 3
   },
   "pygments_lexer": "ipython3",
   "nbconvert_exporter": "python",
   "file_extension": ".py"
  },
  "kernelspec": {
   "name": "python3",
   "display_name": "Python 3.8.8 64-bit ('base': conda)"
  },
  "interpreter": {
   "hash": "6d46af94c2bbce495f1e668725902fa517c90b1782bcfe2fce0dd9868df553d3"
  }
 },
 "nbformat": 4,
 "nbformat_minor": 2
}