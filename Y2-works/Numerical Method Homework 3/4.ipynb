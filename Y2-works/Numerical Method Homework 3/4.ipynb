{
 "cells": [
  {
   "cell_type": "code",
   "execution_count": 1,
   "source": [
    "# Name: Apichaya Maneewong\r\n",
    "# StudentID: 6388126\r\n",
    "# Section: 2\r\n",
    "# 4. Find at least 2 mathematical functions \r\n",
    "# that Bisection method performs better than False Position method (less number of search step until epa < eps)\r\n",
    "# vice versa (Find at least 2 mathematical functions that False Position method performs better than the Bisection method).\r\n",
    "# Confirm your claims with a program."
   ],
   "outputs": [],
   "metadata": {}
  },
  {
   "cell_type": "code",
   "execution_count": 2,
   "source": [
    "import numpy as np\r\n",
    "\r\n",
    "# First equation = 2^(2x)+(2^x)-6\r\n",
    "def f1(x):\r\n",
    "    return (2**(2*x))+(2**x)-6\r\n",
    "#end function\r\n",
    "# Second equation = 2^(2x)+2-(9*(2^x))+2\r\n",
    "def f2(x):\r\n",
    "    return (2**((2*x)+2))-9*(2**x)+2\r\n",
    "#end function\r\n",
    "# Third equation = 4x^3-2x^2+4x+8\r\n",
    "def f3(x):\r\n",
    "    return (4*(x**3))-2*(x**2)+(4*x)+8\r\n",
    "#end function\r\n",
    "# Fourth equation = 6x^3-4x^2+8x+16\r\n",
    "def f4(x):\r\n",
    "    return (6*(x**3))-4*(x**2)+(8*x)+16\r\n",
    "#end function\r\n",
    "\r\n",
    "x = np.arange(-2,6,0.4)"
   ],
   "outputs": [],
   "metadata": {}
  },
  {
   "cell_type": "code",
   "execution_count": 3,
   "source": [
    "# TODO: Bisection method (Recursive)\r\n",
    "def bisection(xl,xu,eps,xr_prev,wf):\r\n",
    "    xr = (xl+xu)/2\r\n",
    "    epa = abs((xr-xr_prev)/xr)*100\r\n",
    "    if wf==1:\r\n",
    "        yl = f1(xl)\r\n",
    "        yu = f1(xr)\r\n",
    "    elif wf==2:\r\n",
    "        yl = f2(xl)\r\n",
    "        yu = f2(xr)\r\n",
    "    elif wf==3:\r\n",
    "        yl = f3(xl)\r\n",
    "        yu = f3(xr)\r\n",
    "    elif wf==4:\r\n",
    "        yl = f4(xl)\r\n",
    "        yu = f4(xr)\r\n",
    "    else: return None\r\n",
    "    if epa > eps:\r\n",
    "        if yl * yu < 0:\r\n",
    "            output = bisection(xl, xr, eps, xr, wf)\r\n",
    "        else:\r\n",
    "            output = bisection(xr, xu, eps, xr, wf)\r\n",
    "        print('xr = %3.4f and epa = %3.4f' %(xr,epa))\r\n",
    "        return output\r\n",
    "    else: return xr\r\n",
    "#end function"
   ],
   "outputs": [],
   "metadata": {}
  },
  {
   "cell_type": "code",
   "execution_count": 4,
   "source": [
    "# TODO: false_position method (Recursive)\r\n",
    "def false_position(xl, xu, eps, xr_prev, wf):\r\n",
    "    if wf==1:\r\n",
    "        xr = xu - (f1(xu) * ((xu-xl)/(f1(xu)-f1(xl))))\r\n",
    "        yl = f1(xl)\r\n",
    "        yu = f1(xr)\r\n",
    "    elif wf==2:\r\n",
    "        xr = xu - (f2(xu) * ((xu-xl)/(f2(xu)-f2(xl))))\r\n",
    "        yl = f2(xl)\r\n",
    "        yu = f2(xr)\r\n",
    "    elif wf==3:\r\n",
    "        xr = xu - (f3(xu) * ((xu-xl)/(f3(xu)-f3(xl))))\r\n",
    "        yl = f3(xl)\r\n",
    "        yu = f3(xr)\r\n",
    "    elif wf==4:\r\n",
    "        xr = xu - (f4(xu) * ((xu-xl)/(f4(xu)-f4(xl))))\r\n",
    "        yl = f4(xl)\r\n",
    "        yu = f4(xr)\r\n",
    "    else: return None\r\n",
    "    epa = abs((xr-xr_prev)/xr) * 100\r\n",
    "    if epa > eps:\r\n",
    "        if yl * yu < 0:\r\n",
    "            output = false_position(xl, xr, eps, xr, wf)\r\n",
    "        else:\r\n",
    "            output = false_position(xr, xu, eps, xr, wf)\r\n",
    "        print('xr = %3.4f and epa = %3.4f' %(xr,epa))\r\n",
    "        return output\r\n",
    "    else:\r\n",
    "        return xr"
   ],
   "outputs": [],
   "metadata": {}
  },
  {
   "cell_type": "code",
   "execution_count": 5,
   "source": [
    "# to find the big interval of each fuction\r\n",
    "def findDnC(x,wf):\r\n",
    "    for i in range(0,len(x)-1):\r\n",
    "        if wf==1:\r\n",
    "            yl = f1(x[i])\r\n",
    "            yu = f1(x[i+1])\r\n",
    "        elif wf==2:\r\n",
    "            yl = f2(x[i])\r\n",
    "            yu = f2(x[i+1])\r\n",
    "        elif wf==3:\r\n",
    "            yl = f3(x[i])\r\n",
    "            yu = f3(x[i+1])\r\n",
    "        elif wf==4:\r\n",
    "            yl = f4(x[i])\r\n",
    "            yu = f4(x[i+1])\r\n",
    "        else: return None\r\n",
    "        if((yl*yu)<0):\r\n",
    "            print(\"This is Divide and Conquer from [%2.4f, %2.4f]\" %(x[i],x[i+1]))\r\n",
    "# end function"
   ],
   "outputs": [],
   "metadata": {}
  },
  {
   "cell_type": "code",
   "execution_count": 6,
   "source": [
    "# Bisection method\r\n",
    "eps = 0.5*10**(2-4) # The declaration of eps\r\n",
    "print('First equation = 2^(2x)+(2^x)-6')\r\n",
    "print('(Bisection method performs better than False Position method)')\r\n",
    "findDnC(x,1)\r\n",
    "print('========Bisection method========')\r\n",
    "myrootbi = bisection(0.8, 1.2,eps,1,1)\r\n",
    "print('The root is %5.4f' %(myrootbi))\r\n",
    "# false position method\r\n",
    "print('========false position method========')\r\n",
    "myrootfalse = false_position(0.8, 1.2,eps,1,1)\r\n",
    "print('The root is %5.4f' %(myrootfalse))"
   ],
   "outputs": [
    {
     "output_type": "stream",
     "name": "stdout",
     "text": [
      "First equation = 2^(2x)+(2^x)-6\n",
      "(Bisection method performs better than False Position method)\n",
      "This is Divide and Conquer from [0.8000, 1.2000]\n",
      "========Bisection method========\n",
      "The root is 1.0000\n",
      "========false position method========\n",
      "xr = 1.0000 and epa = 0.0316\n",
      "xr = 0.9996 and epa = 0.2635\n",
      "xr = 0.9970 and epa = 2.1901\n",
      "xr = 0.9752 and epa = 2.5461\n",
      "The root is 1.0000\n"
     ]
    }
   ],
   "metadata": {}
  },
  {
   "cell_type": "code",
   "execution_count": 7,
   "source": [
    "# Bisection method\r\n",
    "print('Second equation = 2^(2x)+2-(9*(2^x))+2')\r\n",
    "print('(Bisection method performs better than False Position method)')\r\n",
    "findDnC(x,2)\r\n",
    "print('========Bisection method========')\r\n",
    "myrootbi = bisection(0.8, 1.2, eps, 1, 2)\r\n",
    "print('The root is %5.4f' %(myrootbi))\r\n",
    "# false position method\r\n",
    "print('========false position method========')\r\n",
    "myrootfalse = false_position(0.8, 1.2, eps, 1, 2)\r\n",
    "print('The root is %5.4f' %(myrootfalse))"
   ],
   "outputs": [
    {
     "output_type": "stream",
     "name": "stdout",
     "text": [
      "Second equation = 2^(2x)+2-(9*(2^x))+2\n",
      "(Bisection method performs better than False Position method)\n",
      "This is Divide and Conquer from [0.8000, 1.2000]\n",
      "========Bisection method========\n",
      "The root is 1.0000\n",
      "========false position method========\n",
      "xr = 1.0000 and epa = 0.0062\n",
      "xr = 0.9999 and epa = 0.0307\n",
      "xr = 0.9996 and epa = 0.1512\n",
      "xr = 0.9981 and epa = 0.7416\n",
      "xr = 0.9907 and epa = 3.5830\n",
      "xr = 0.9552 and epa = 4.6897\n",
      "The root is 1.0000\n"
     ]
    }
   ],
   "metadata": {}
  },
  {
   "cell_type": "code",
   "execution_count": 8,
   "source": [
    "# Bisection method\r\n",
    "print('Third equation = 4x^3-2x^2+4x+8')\r\n",
    "print('(False Position method performs better than the Bisection method)')\r\n",
    "findDnC(x,3)\r\n",
    "print('========Bisection method========')\r\n",
    "myrootbi = bisection(-1.2, -0.8, eps, 1, 3)\r\n",
    "print('The root is %5.4f' %(myrootbi))\r\n",
    "# false position method\r\n",
    "print('========false position method========')\r\n",
    "myrootfalse = false_position(-1.2, -0.8, eps, 1, 3)\r\n",
    "print('The root is %5.4f' %(myrootfalse))"
   ],
   "outputs": [
    {
     "output_type": "stream",
     "name": "stdout",
     "text": [
      "Third equation = 4x^3-2x^2+4x+8\n",
      "(False Position method performs better than the Bisection method)\n",
      "This is Divide and Conquer from [-1.2000, -0.8000]\n",
      "========Bisection method========\n",
      "xr = -0.8921 and epa = 0.0055\n",
      "xr = -0.8921 and epa = 0.0109\n",
      "xr = -0.8920 and epa = 0.0219\n",
      "xr = -0.8918 and epa = 0.0438\n",
      "xr = -0.8914 and epa = 0.0876\n",
      "xr = -0.8922 and epa = 0.1751\n",
      "xr = -0.8906 and epa = 0.3509\n",
      "xr = -0.8938 and epa = 0.6993\n",
      "xr = -0.8875 and epa = 1.4085\n",
      "xr = -0.8750 and epa = 2.8571\n",
      "xr = -0.8500 and epa = 5.8824\n",
      "xr = -0.9000 and epa = 11.1111\n",
      "xr = -1.0000 and epa = 200.0000\n",
      "The root is -0.8921\n",
      "========false position method========\n",
      "xr = -0.8921 and epa = 0.0139\n",
      "xr = -0.8919 and epa = 0.0693\n",
      "xr = -0.8913 and epa = 0.3454\n",
      "xr = -0.8882 and epa = 1.7150\n",
      "xr = -0.8730 and epa = 214.5455\n",
      "The root is -0.8921\n"
     ]
    }
   ],
   "metadata": {}
  },
  {
   "cell_type": "code",
   "execution_count": 9,
   "source": [
    "# Bisection method\r\n",
    "print('Fourth equation = 6x^3-4x^2+8x+16')\r\n",
    "print('(False Position method performs better than the Bisection method)')\r\n",
    "findDnC(x,4)\r\n",
    "print('========Bisection method========')\r\n",
    "myrootbi = bisection(-1.2,-0.8,eps,1,4)\r\n",
    "print('The root is %5.4f' %(myrootbi))\r\n",
    "# false position method\r\n",
    "print('========false position method========')\r\n",
    "myrootfalse = false_position(-1.2,-0.8,eps,1,4)\r\n",
    "print('The root is %5.4f' %(myrootfalse))"
   ],
   "outputs": [
    {
     "output_type": "stream",
     "name": "stdout",
     "text": [
      "Fourth equation = 6x^3-4x^2+8x+16\n",
      "(False Position method performs better than the Bisection method)\n",
      "This is Divide and Conquer from [-1.2000, -0.8000]\n",
      "========Bisection method========\n",
      "xr = -0.9388 and epa = 0.0052\n",
      "xr = -0.9388 and epa = 0.0104\n",
      "xr = -0.9389 and epa = 0.0208\n",
      "xr = -0.9387 and epa = 0.0416\n",
      "xr = -0.9383 and epa = 0.0833\n",
      "xr = -0.9391 and epa = 0.1664\n",
      "xr = -0.9406 and epa = 0.3322\n",
      "xr = -0.9437 and epa = 0.6623\n",
      "xr = -0.9375 and epa = 1.3333\n",
      "xr = -0.9250 and epa = 2.7027\n",
      "xr = -0.9500 and epa = 5.2632\n",
      "xr = -0.9000 and epa = 11.1111\n",
      "xr = -1.0000 and epa = 200.0000\n",
      "The root is -0.9388\n",
      "========false position method========\n",
      "xr = -0.9388 and epa = 0.0081\n",
      "xr = -0.9387 and epa = 0.0515\n",
      "xr = -0.9382 and epa = 0.3265\n",
      "xr = -0.9352 and epa = 2.0604\n",
      "xr = -0.9159 and epa = 209.1837\n",
      "The root is -0.9388\n"
     ]
    }
   ],
   "metadata": {}
  }
 ],
 "metadata": {
  "orig_nbformat": 4,
  "language_info": {
   "name": "python",
   "version": "3.8.8",
   "mimetype": "text/x-python",
   "codemirror_mode": {
    "name": "ipython",
    "version": 3
   },
   "pygments_lexer": "ipython3",
   "nbconvert_exporter": "python",
   "file_extension": ".py"
  },
  "kernelspec": {
   "name": "python3",
   "display_name": "Python 3.8.8 64-bit ('base': conda)"
  },
  "interpreter": {
   "hash": "6d46af94c2bbce495f1e668725902fa517c90b1782bcfe2fce0dd9868df553d3"
  }
 },
 "nbformat": 4,
 "nbformat_minor": 2
}