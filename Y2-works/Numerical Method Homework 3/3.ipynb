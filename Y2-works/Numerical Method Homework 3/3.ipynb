{
 "cells": [
  {
   "cell_type": "code",
   "execution_count": 1,
   "source": [
    "# Name: Apichaya Maneewong\r\n",
    "# StudentID: 6388126\r\n",
    "# Section: 2\r\n",
    "# 3.Solve function f(x) = x^3 -6x^2 + 4x + 12 = 0 \r\n",
    "# (find all x's that makes f(x) = 0) between region [-2, 6] \r\n",
    "# using the False Position method implemented as a simple while loop and a recursive function.\r\n",
    "# Since the region [-2, 6] has multiple roots,\r\n",
    "# you should use the interval search method to locate small intervals that contains single roots first and then apply the False Position method.\r\n",
    "# Check your answer using wolframalpha.com."
   ],
   "outputs": [],
   "metadata": {}
  },
  {
   "cell_type": "code",
   "execution_count": 2,
   "source": [
    "import numpy as np\r\n",
    "keep1 = [] # list to keep the fisrt interval\r\n",
    "keep2 = [] # list to keep the last interval"
   ],
   "outputs": [],
   "metadata": {}
  },
  {
   "cell_type": "code",
   "execution_count": 3,
   "source": [
    "# TODO: fine the answer of each function when x=...\r\n",
    "def f(x):\r\n",
    "    return (x**3)-6*(x**2)+(4*x)+12\r\n",
    "#end function"
   ],
   "outputs": [],
   "metadata": {}
  },
  {
   "cell_type": "code",
   "execution_count": 4,
   "source": [
    "# TODO: False position method (While loop)\r\n",
    "def false_position(xl, xu):\r\n",
    "    eps = 0.5*10**(2-4) # declare the eps\r\n",
    "    epa = 1\r\n",
    "    xr_prev = 1\r\n",
    "    while epa > eps:\r\n",
    "        xr = xr = xu - (f(xu) * ((xu-xl)/(f(xu)-f(xl))))\r\n",
    "        if f(xl) * f(xr) < 0:\r\n",
    "            xu = xr\r\n",
    "        else: \r\n",
    "            xl = xr\r\n",
    "        epa = abs((xr-xr_prev)/xr) * 100 # calculate the epa\r\n",
    "        xr_prev = xr\r\n",
    "        print('xr = %3.4f and epa = %3.4f' %(xr,epa))\r\n",
    "    # end while\r\n",
    "    return xr"
   ],
   "outputs": [],
   "metadata": {}
  },
  {
   "cell_type": "code",
   "execution_count": 5,
   "source": [
    "x = np.arange(-2,6,0.4) # create region [-2, 6]\r\n",
    "# TODO: # fine the big interval of the fuction, keep it in the list and print out.\r\n",
    "for i in range(0,len(x)-1):\r\n",
    "    yl = f(x[i])\r\n",
    "    yu = f(x[i+1])\r\n",
    "    if((yl*yu)<0):\r\n",
    "        keep1.append(x[i])\r\n",
    "        keep2.append(x[i+1])\r\n",
    "        print(\"This is Divide and Conquer from [%2.4f, %2.4f]\" %(x[i],x[i+1]))"
   ],
   "outputs": [
    {
     "output_type": "stream",
     "name": "stdout",
     "text": [
      "This is Divide and Conquer from [-1.2000, -0.8000]\n",
      "This is Divide and Conquer from [2.4000, 2.8000]\n",
      "This is Divide and Conquer from [4.4000, 4.8000]\n"
     ]
    }
   ],
   "metadata": {}
  },
  {
   "cell_type": "code",
   "execution_count": 6,
   "source": [
    "# TODO: Find the root from each interval by False position method (While loop)\r\n",
    "for j in range(len(keep1)):\r\n",
    "    print(\"This is Divide and Conquer from [\"+ str(round(keep1[j],2))+\", \"+str(round(keep2[j],2))+\"]\")\r\n",
    "    myroot1 = false_position(round(keep1[j],2), round(keep2[j],2))\r\n",
    "    print('The root is %5.4f' %(myroot1))\r\n",
    "    print('======================================')"
   ],
   "outputs": [
    {
     "output_type": "stream",
     "name": "stdout",
     "text": [
      "This is Divide and Conquer from [-1.2, -0.8]\n",
      "xr = -1.0336 and epa = 196.7480\n",
      "xr = -1.0502 and epa = 1.5808\n",
      "xr = -1.0513 and epa = 0.1031\n",
      "xr = -1.0514 and epa = 0.0067\n",
      "xr = -1.0514 and epa = 0.0004\n",
      "The root is -1.0514\n",
      "======================================\n",
      "This is Divide and Conquer from [2.4, 2.8]\n",
      "xr = 2.5256 and epa = 60.4052\n",
      "xr = 2.5175 and epa = 0.3212\n",
      "xr = 2.5173 and epa = 0.0074\n",
      "xr = 2.5173 and epa = 0.0002\n",
      "The root is 2.5173\n",
      "======================================\n",
      "This is Divide and Conquer from [4.4, 4.8]\n",
      "xr = 4.5117 and epa = 77.8353\n",
      "xr = 4.5305 and epa = 0.4158\n",
      "xr = 4.5335 and epa = 0.0659\n",
      "xr = 4.5340 and epa = 0.0103\n",
      "xr = 4.5341 and epa = 0.0016\n",
      "The root is 4.5341\n",
      "======================================\n"
     ]
    }
   ],
   "metadata": {}
  },
  {
   "cell_type": "code",
   "execution_count": 7,
   "source": [
    "# TODO: False position method (Recursive)\r\n",
    "def false_positionrecur(xl, xu, eps, xr_prev):\r\n",
    "    xr = xu - (f(xu) * ((xu-xl)/(f(xu)-f(xl))))\r\n",
    "    epa = abs((xr-xr_prev)/xr) * 100\r\n",
    "    if epa > eps:\r\n",
    "        if f(xl) * f(xr) < 0:\r\n",
    "            output = false_positionrecur(xl, xr, eps, xr)\r\n",
    "        else:\r\n",
    "            output = false_positionrecur(xr, xu, eps, xr)\r\n",
    "        print('xr = %3.4f and epa = %3.4f' %(xr,epa))\r\n",
    "        return output\r\n",
    "    else:\r\n",
    "        return xr"
   ],
   "outputs": [],
   "metadata": {}
  },
  {
   "cell_type": "code",
   "execution_count": 8,
   "source": [
    "eps = 0.5*10**(2-4) # The declaration of eps\r\n",
    "# TODO: Find the root from each interval by False position method (While loop)\r\n",
    "for j in range(len(keep1)):\r\n",
    "    print(\"This is Divide and Conquer from [\"+ str(round(keep1[j],2))+\", \"+str(round(keep2[j],2))+\"]\")\r\n",
    "    myroot1 = false_positionrecur(round(keep1[j],2), round(keep2[j],2), eps, 1)\r\n",
    "    print('The root is %5.4f' %(myroot1))\r\n",
    "    print('======================================')"
   ],
   "outputs": [
    {
     "output_type": "stream",
     "name": "stdout",
     "text": [
      "This is Divide and Conquer from [-1.2, -0.8]\n",
      "xr = -1.0514 and epa = 0.0067\n",
      "xr = -1.0513 and epa = 0.1031\n",
      "xr = -1.0502 and epa = 1.5808\n",
      "xr = -1.0336 and epa = 196.7480\n",
      "The root is -1.0514\n",
      "======================================\n",
      "This is Divide and Conquer from [2.4, 2.8]\n",
      "xr = 2.5173 and epa = 0.0074\n",
      "xr = 2.5175 and epa = 0.3212\n",
      "xr = 2.5256 and epa = 60.4052\n",
      "The root is 2.5173\n",
      "======================================\n",
      "This is Divide and Conquer from [4.4, 4.8]\n",
      "xr = 4.5340 and epa = 0.0103\n",
      "xr = 4.5335 and epa = 0.0659\n",
      "xr = 4.5305 and epa = 0.4158\n",
      "xr = 4.5117 and epa = 77.8353\n",
      "The root is 4.5341\n",
      "======================================\n"
     ]
    }
   ],
   "metadata": {}
  }
 ],
 "metadata": {
  "orig_nbformat": 4,
  "language_info": {
   "name": "python",
   "version": "3.8.8",
   "mimetype": "text/x-python",
   "codemirror_mode": {
    "name": "ipython",
    "version": 3
   },
   "pygments_lexer": "ipython3",
   "nbconvert_exporter": "python",
   "file_extension": ".py"
  },
  "kernelspec": {
   "name": "python3",
   "display_name": "Python 3.8.8 64-bit ('base': conda)"
  },
  "interpreter": {
   "hash": "6d46af94c2bbce495f1e668725902fa517c90b1782bcfe2fce0dd9868df553d3"
  }
 },
 "nbformat": 4,
 "nbformat_minor": 2
}