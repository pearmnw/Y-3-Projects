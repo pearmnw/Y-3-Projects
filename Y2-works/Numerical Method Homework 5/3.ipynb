{
 "cells": [
  {
   "cell_type": "code",
   "execution_count": 1,
   "source": [
    "# homework 5.5 parabolic interpolation\r\n",
    "import math\r\n",
    "import numpy as np\r\n",
    "import matplotlib.pyplot as plt"
   ],
   "outputs": [],
   "metadata": {}
  },
  {
   "cell_type": "code",
   "execution_count": 2,
   "source": [
    "def f1(x):\r\n",
    "    return (x**3)-(6*(x**2))+(4*x)+12\r\n",
    "\r\n",
    "def f2(x):\r\n",
    "    return (x**3)-(4*(x**2))-(6*x)+5"
   ],
   "outputs": [],
   "metadata": {}
  },
  {
   "cell_type": "code",
   "execution_count": 3,
   "source": [
    "def opt_parabola(x1,x2,x3,op):\r\n",
    "    if op == 1:\r\n",
    "        fx1 = f1(x1)\r\n",
    "        fx2 = f1(x2)\r\n",
    "        fx3 = f1(x3)\r\n",
    "    elif op == 2:\r\n",
    "        fx1 = f2(x1)\r\n",
    "        fx2 = f2(x2)\r\n",
    "        fx3 = f2(x3)\r\n",
    "    #end if\r\n",
    "    a1 = (x2-x1)*(x2-x1)*(fx2-fx3)\r\n",
    "    a2 = (x2-x3)*(x2-x3)*(fx2-fx1)\r\n",
    "    b1 = (x2-x1)*(fx2-fx3)\r\n",
    "    b2 = (x2-x3)*(fx2-fx1)\r\n",
    "    c = (a1-a2)/(b1-b2)\r\n",
    "    x4 = x2-(0.5*c)\r\n",
    "    return x4\r\n",
    "#end function"
   ],
   "outputs": [],
   "metadata": {}
  },
  {
   "cell_type": "code",
   "execution_count": 4,
   "source": [
    "def max_parabolic(x1,x2,x3,eps,op):\r\n",
    "    xopt_prev = x2\r\n",
    "    x4 = opt_parabola(x1,x2,x3,op)\r\n",
    "    if op == 1:\r\n",
    "        fx1 = f1(x1)\r\n",
    "        fx2 = f1(x2)\r\n",
    "        fx3 = f1(x3)\r\n",
    "        fx4 = f1(x4)\r\n",
    "    elif op == 2:\r\n",
    "        fx1 = f2(x1)\r\n",
    "        fx2 = f2(x2)\r\n",
    "        fx3 = f2(x3)\r\n",
    "        fx4 = f2(x4)\r\n",
    "    #end if\r\n",
    "    print('x1 = %4.4f\\tx2 = %4.4f\\tx3 = %4.4f\\tx4 = %4.4f' %(x1,x2,x3,x4))\r\n",
    "    print('f(x1) = %4.4f\\tf(x2) = %4.4f\\tf(x3) = %4.4f\\tf(x4) = %4.4f' %(fx1,fx2,fx3,fx4))\r\n",
    "    if x4 > x2:\r\n",
    "        if fx4 > fx2:\r\n",
    "            #interval [x1,x2] will be eliminated. x3 remains the same.\r\n",
    "            xmax = x4\r\n",
    "            x1 = x2\r\n",
    "            x2 = x4\r\n",
    "        else: #f(x4) < f(x2)\r\n",
    "            # interval [x4,x3] will be eliminated. x1 and x2 remain the same.\r\n",
    "            xmax = x2\r\n",
    "            x3 = x4\r\n",
    "        #end if\r\n",
    "    else: # x4 < x2 (x4 is on the left of x2)\r\n",
    "        if fx4 > fx2:\r\n",
    "            # interval [x2,x3] will be eliminated\r\n",
    "            xmax = x4\r\n",
    "            x3 = x2\r\n",
    "            x2 = x4\r\n",
    "        else: # f(x4) < f(x2)\r\n",
    "            # region [x1,x4] will be elminated, x2 and x3 remain the same\r\n",
    "            xmax = x2\r\n",
    "            x1 = x4\r\n",
    "        # end if\r\n",
    "    #end if\r\n",
    "    xopt = xmax\r\n",
    "    epa = np.abs((xopt-xopt_prev)/xopt)*100\r\n",
    "    print('xopt = %4.4f\\tepa = %4.4f' %(xopt,epa))\r\n",
    "    if epa < eps:\r\n",
    "        return xopt\r\n",
    "    else:\r\n",
    "        return max_parabolic(x1,x2,x3,eps,op)"
   ],
   "outputs": [],
   "metadata": {}
  },
  {
   "cell_type": "code",
   "execution_count": 5,
   "source": [
    "def min_parabolic(x1,x2,x3,eps,op):\r\n",
    "    xopt_prev = x2\r\n",
    "    x4 = opt_parabola(x1,x2,x3,op)\r\n",
    "    if op == 1:\r\n",
    "        fx1 = f1(x1)\r\n",
    "        fx2 = f1(x2)\r\n",
    "        fx3 = f1(x3)\r\n",
    "        fx4 = f1(x4)\r\n",
    "    elif op == 2:\r\n",
    "        fx1 = f2(x1)\r\n",
    "        fx2 = f2(x2)\r\n",
    "        fx3 = f2(x3)\r\n",
    "        fx4 = f2(x4)\r\n",
    "    #end if\r\n",
    "    print('x1 = %4.4f\\tx2 = %4.4f\\tx3 = %4.4f\\tx4 = %4.4f' %(x1,x2,x3,x4))\r\n",
    "    print('f(x1) = %4.4f\\tf(x2) = %4.4f\\tf(x3) = %4.4f\\tf(x4) = %4.4f' %(fx1,fx2,fx3,fx4))\r\n",
    "    if x4 > x2:\r\n",
    "        if fx4 < fx2:\r\n",
    "            #eliminate [x1,x2]. x3 remains the same.\r\n",
    "            xmin = x4\r\n",
    "            x1 = x2\r\n",
    "            x2 = x4\r\n",
    "        else: #f(x4) < f(x2)\r\n",
    "            # eliminated [x4,x3]. x1 and x2 remain the same.\r\n",
    "            xmin = x2\r\n",
    "            x3 = x4\r\n",
    "        #end if\r\n",
    "    else: # x4 < x2 (x4 is on the left of x2)\r\n",
    "        if fx4 < fx2:\r\n",
    "            # interval [x2,x3] will be eliminated\r\n",
    "            xmin = x4\r\n",
    "            x3 = x2\r\n",
    "            x2 = x4\r\n",
    "        else: # f(x4) < f(x2)\r\n",
    "            # region [x1,x4] will be elminated, x2 and x3 remain the same\r\n",
    "            xmin = x2\r\n",
    "            x1 = x4\r\n",
    "            x4 = x2\r\n",
    "        # end if\r\n",
    "    #end if\r\n",
    "    xopt = xmin\r\n",
    "    epa = np.abs((xopt-xopt_prev)/xopt)*100\r\n",
    "    print('xopt = %4.4f\\tepa = %4.4f' %(xopt,epa), end = ' ')\r\n",
    "    if epa < eps:\r\n",
    "        return xopt\r\n",
    "    else:\r\n",
    "        return min_parabolic(x1,x2,x3,eps,op)"
   ],
   "outputs": [],
   "metadata": {}
  },
  {
   "cell_type": "code",
   "execution_count": 6,
   "source": [
    "# visualize fx and dfx\r\n",
    "fig = plt.figure(figsize = (10,6))\r\n",
    "x = np.arange(-2,6,0.1)\r\n",
    "y = f1(x)\r\n",
    "plt.plot(x, y, c = 'b', label = 'fx')\r\n",
    "plt.grid(True, which='both')\r\n",
    "plt.axhline(y = 0, color='k')\r\n",
    "plt.legend()\r\n",
    "plt.show()"
   ],
   "outputs": [
    {
     "output_type": "display_data",
     "data": {
      "image/png": "[encoded data removed]",
      "text/plain": [
       "<Figure size 720x432 with 1 Axes>"
      ]
     },
     "metadata": {
      "needs_background": "light"
     }
    }
   ],
   "metadata": {}
  },
  {
   "cell_type": "code",
   "execution_count": 7,
   "source": [
    "eps = 0.005\r\n",
    "x1 = -2\r\n",
    "x2 = 1\r\n",
    "x3 = 2\r\n",
    "op = 1\r\n",
    "xmax = max_parabolic(x1,x2,x3,eps,op)"
   ],
   "outputs": [
    {
     "output_type": "stream",
     "name": "stdout",
     "text": [
      "x1 = -2.0000\tx2 = 1.0000\tx3 = 2.0000\tx4 = 0.8000\n",
      "f(x1) = -28.0000\tf(x2) = 11.0000\tf(x3) = 4.0000\tf(x4) = 11.8720\n",
      "xopt = 0.8000\tepa = 25.0000\n",
      "x1 = -2.0000\tx2 = 0.8000\tx3 = 1.0000\tx4 = 0.5484\n",
      "f(x1) = -28.0000\tf(x2) = 11.8720\tf(x3) = 11.0000\tf(x4) = 12.5541\n",
      "xopt = 0.5484\tepa = 45.8824\n",
      "x1 = -2.0000\tx2 = 0.5484\tx3 = 0.8000\tx4 = 0.4704\n",
      "f(x1) = -28.0000\tf(x2) = 12.5541\tf(x3) = 11.8720\tf(x4) = 12.6580\n",
      "xopt = 0.4704\tepa = 16.5747\n",
      "x1 = -2.0000\tx2 = 0.4704\tx3 = 0.5484\tx4 = 0.4139\n",
      "f(x1) = -28.0000\tf(x2) = 12.6580\tf(x3) = 12.5541\tf(x4) = 12.6986\n",
      "xopt = 0.4139\tepa = 13.6429\n",
      "x1 = -2.0000\tx2 = 0.4139\tx3 = 0.4704\tx4 = 0.3917\n",
      "f(x1) = -28.0000\tf(x2) = 12.6986\tf(x3) = 12.6580\tf(x4) = 12.7063\n",
      "xopt = 0.3917\tepa = 5.6862\n",
      "x1 = -2.0000\tx2 = 0.3917\tx3 = 0.4139\tx4 = 0.3787\n",
      "f(x1) = -28.0000\tf(x2) = 12.7063\tf(x3) = 12.6986\tf(x4) = 12.7086\n",
      "xopt = 0.3787\tepa = 3.4240\n",
      "x1 = -2.0000\tx2 = 0.3787\tx3 = 0.3917\tx4 = 0.3729\n",
      "f(x1) = -28.0000\tf(x2) = 12.7086\tf(x3) = 12.7063\tf(x4) = 12.7091\n",
      "xopt = 0.3729\tepa = 1.5459\n",
      "x1 = -2.0000\tx2 = 0.3729\tx3 = 0.3787\tx4 = 0.3699\n",
      "f(x1) = -28.0000\tf(x2) = 12.7091\tf(x3) = 12.7086\tf(x4) = 12.7093\n",
      "xopt = 0.3699\tepa = 0.8270\n",
      "x1 = -2.0000\tx2 = 0.3699\tx3 = 0.3729\tx4 = 0.3684\n",
      "f(x1) = -28.0000\tf(x2) = 12.7093\tf(x3) = 12.7091\tf(x4) = 12.7093\n",
      "xopt = 0.3684\tepa = 0.3906\n",
      "x1 = -2.0000\tx2 = 0.3684\tx3 = 0.3699\tx4 = 0.3677\n",
      "f(x1) = -28.0000\tf(x2) = 12.7093\tf(x3) = 12.7093\tf(x4) = 12.7093\n",
      "xopt = 0.3677\tepa = 0.1994\n",
      "x1 = -2.0000\tx2 = 0.3677\tx3 = 0.3684\tx4 = 0.3674\n",
      "f(x1) = -28.0000\tf(x2) = 12.7093\tf(x3) = 12.7093\tf(x4) = 12.7093\n",
      "xopt = 0.3674\tepa = 0.0963\n",
      "x1 = -2.0000\tx2 = 0.3674\tx3 = 0.3677\tx4 = 0.3672\n",
      "f(x1) = -28.0000\tf(x2) = 12.7093\tf(x3) = 12.7093\tf(x4) = 12.7093\n",
      "xopt = 0.3672\tepa = 0.0482\n",
      "x1 = -2.0000\tx2 = 0.3672\tx3 = 0.3674\tx4 = 0.3671\n",
      "f(x1) = -28.0000\tf(x2) = 12.7093\tf(x3) = 12.7093\tf(x4) = 12.7093\n",
      "xopt = 0.3671\tepa = 0.0236\n",
      "x1 = -2.0000\tx2 = 0.3671\tx3 = 0.3672\tx4 = 0.3670\n",
      "f(x1) = -28.0000\tf(x2) = 12.7093\tf(x3) = 12.7093\tf(x4) = 12.7093\n",
      "xopt = 0.3670\tepa = 0.0117\n",
      "x1 = -2.0000\tx2 = 0.3670\tx3 = 0.3671\tx4 = 0.3670\n",
      "f(x1) = -28.0000\tf(x2) = 12.7093\tf(x3) = 12.7093\tf(x4) = 12.7093\n",
      "xopt = 0.3670\tepa = 0.0057\n",
      "x1 = -2.0000\tx2 = 0.3670\tx3 = 0.3670\tx4 = 0.3670\n",
      "f(x1) = -28.0000\tf(x2) = 12.7093\tf(x3) = 12.7093\tf(x4) = 12.7093\n",
      "xopt = 0.3670\tepa = 0.0028\n"
     ]
    }
   ],
   "metadata": {}
  },
  {
   "cell_type": "code",
   "execution_count": 8,
   "source": [
    "eps = 0.005\r\n",
    "x1 = 2\r\n",
    "x2 = 4\r\n",
    "x3 = 6\r\n",
    "op = 1\r\n",
    "xmin = min_parabolic(x1,x2,x3,eps,op)"
   ],
   "outputs": [
    {
     "output_type": "stream",
     "name": "stdout",
     "text": [
      "x1 = 2.0000\tx2 = 4.0000\tx3 = 6.0000\tx4 = 3.3333\n",
      "f(x1) = 4.0000\tf(x2) = -4.0000\tf(x3) = 36.0000\tf(x4) = -4.2963\n",
      "xopt = 3.3333\tepa = 20.0000 x1 = 2.0000\tx2 = 3.3333\tx3 = 4.0000\tx4 = 3.6000\n",
      "f(x1) = 4.0000\tf(x2) = -4.2963\tf(x3) = -4.0000\tf(x4) = -4.7040\n",
      "xopt = 3.6000\tepa = 7.4074 x1 = 3.3333\tx2 = 3.6000\tx3 = 4.0000\tx4 = 3.6216\n",
      "f(x1) = -4.2963\tf(x2) = -4.7040\tf(x3) = -4.0000\tf(x4) = -4.7087\n",
      "xopt = 3.6216\tepa = 0.5970 x1 = 3.6000\tx2 = 3.6216\tx3 = 4.0000\tx4 = 3.6315\n",
      "f(x1) = -4.7040\tf(x2) = -4.7087\tf(x3) = -4.0000\tf(x4) = -4.7093\n",
      "xopt = 3.6315\tepa = 0.2712 x1 = 3.6216\tx2 = 3.6315\tx3 = 4.0000\tx4 = 3.6325\n",
      "f(x1) = -4.7087\tf(x2) = -4.7093\tf(x3) = -4.0000\tf(x4) = -4.7093\n",
      "xopt = 3.6325\tepa = 0.0296 x1 = 3.6315\tx2 = 3.6325\tx3 = 4.0000\tx4 = 3.6329\n",
      "f(x1) = -4.7093\tf(x2) = -4.7093\tf(x3) = -4.0000\tf(x4) = -4.7093\n",
      "xopt = 3.6329\tepa = 0.0105 x1 = 3.6325\tx2 = 3.6329\tx3 = 4.0000\tx4 = 3.6330\n",
      "f(x1) = -4.7093\tf(x2) = -4.7093\tf(x3) = -4.0000\tf(x4) = -4.7093\n",
      "xopt = 3.6330\tepa = 0.0014 "
     ]
    }
   ],
   "metadata": {}
  },
  {
   "cell_type": "code",
   "execution_count": 9,
   "source": [
    "# visualize fx and dfx\r\n",
    "fig = plt.figure(figsize = (10,6))\r\n",
    "x = np.arange(-2,6,0.1)\r\n",
    "y = f2(x)\r\n",
    "plt.plot(x, y, c = 'b', label = 'fx')\r\n",
    "plt.grid(True, which='both')\r\n",
    "plt.axhline(y = 0, color='k')\r\n",
    "plt.legend()\r\n",
    "plt.show()"
   ],
   "outputs": [
    {
     "output_type": "display_data",
     "data": {
      "image/png": "[encoded data removed]",
      "text/plain": [
       "<Figure size 720x432 with 1 Axes>"
      ]
     },
     "metadata": {
      "needs_background": "light"
     }
    }
   ],
   "metadata": {}
  },
  {
   "cell_type": "code",
   "execution_count": 10,
   "source": [
    "eps = 0.005\r\n",
    "x1 = -2\r\n",
    "x2 = 0\r\n",
    "x3 = 2\r\n",
    "op = 2\r\n",
    "xmax = max_parabolic(x1,x2,x3,eps,op)"
   ],
   "outputs": [
    {
     "output_type": "stream",
     "name": "stdout",
     "text": [
      "x1 = -2.0000\tx2 = 0.0000\tx3 = 2.0000\tx4 = -0.2500\n",
      "f(x1) = -7.0000\tf(x2) = 5.0000\tf(x3) = -15.0000\tf(x4) = 6.2344\n",
      "xopt = -0.2500\tepa = 100.0000\n",
      "x1 = -2.0000\tx2 = -0.2500\tx3 = 0.0000\tx4 = -0.5200\n",
      "f(x1) = -7.0000\tf(x2) = 6.2344\tf(x3) = 5.0000\tf(x4) = 6.8978\n",
      "xopt = -0.5200\tepa = 51.9231\n",
      "x1 = -2.0000\tx2 = -0.5200\tx3 = -0.2500\tx4 = -0.5665\n",
      "f(x1) = -7.0000\tf(x2) = 6.8978\tf(x3) = 6.2344\tf(x4) = 6.9335\n",
      "xopt = -0.5665\tepa = 8.2034\n",
      "x1 = -2.0000\tx2 = -0.5665\tx3 = -0.5200\tx4 = -0.5974\n",
      "f(x1) = -7.0000\tf(x2) = 6.9335\tf(x3) = 6.8978\tf(x4) = 6.9437\n",
      "xopt = -0.5974\tepa = 5.1841\n",
      "x1 = -2.0000\tx2 = -0.5974\tx3 = -0.5665\tx4 = -0.6049\n",
      "f(x1) = -7.0000\tf(x2) = 6.9437\tf(x3) = 6.9335\tf(x4) = 6.9444\n",
      "xopt = -0.6049\tepa = 1.2256\n",
      "x1 = -2.0000\tx2 = -0.6049\tx3 = -0.5974\tx4 = -0.6086\n",
      "f(x1) = -7.0000\tf(x2) = 6.9444\tf(x3) = 6.9437\tf(x4) = 6.9446\n",
      "xopt = -0.6086\tepa = 0.6077\n",
      "x1 = -2.0000\tx2 = -0.6086\tx3 = -0.6049\tx4 = -0.6096\n",
      "f(x1) = -7.0000\tf(x2) = 6.9446\tf(x3) = 6.9444\tf(x4) = 6.9446\n",
      "xopt = -0.6096\tepa = 0.1753\n",
      "x1 = -2.0000\tx2 = -0.6096\tx3 = -0.6086\tx4 = -0.6101\n",
      "f(x1) = -7.0000\tf(x2) = 6.9446\tf(x3) = 6.9446\tf(x4) = 6.9446\n",
      "xopt = -0.6101\tepa = 0.0752\n",
      "x1 = -2.0000\tx2 = -0.6101\tx3 = -0.6096\tx4 = -0.6102\n",
      "f(x1) = -7.0000\tf(x2) = 6.9446\tf(x3) = 6.9446\tf(x4) = 6.9446\n",
      "xopt = -0.6102\tepa = 0.0241\n",
      "x1 = -2.0000\tx2 = -0.6102\tx3 = -0.6101\tx4 = -0.6103\n",
      "f(x1) = -7.0000\tf(x2) = 6.9446\tf(x3) = 6.9446\tf(x4) = 6.9446\n",
      "xopt = -0.6103\tepa = 0.0096\n",
      "x1 = -2.0000\tx2 = -0.6103\tx3 = -0.6102\tx4 = -0.6103\n",
      "f(x1) = -7.0000\tf(x2) = 6.9446\tf(x3) = 6.9446\tf(x4) = 6.9446\n",
      "xopt = -0.6103\tepa = 0.0032\n"
     ]
    }
   ],
   "metadata": {}
  },
  {
   "cell_type": "code",
   "execution_count": 11,
   "source": [
    "eps = 0.005\r\n",
    "x1 = 2\r\n",
    "x2 = 4\r\n",
    "x3 = 5\r\n",
    "op = 2\r\n",
    "xmin = min_parabolic(x1,x2,x3,eps,op)"
   ],
   "outputs": [
    {
     "output_type": "stream",
     "name": "stdout",
     "text": [
      "x1 = 2.0000\tx2 = 4.0000\tx3 = 5.0000\tx4 = 3.1429\n",
      "f(x1) = -15.0000\tf(x2) = -19.0000\tf(x3) = 0.0000\tf(x4) = -22.3236\n",
      "xopt = 3.1429\tepa = 27.2727 x1 = 2.0000\tx2 = 3.1429\tx3 = 4.0000\tx4 = 3.1944\n",
      "f(x1) = -15.0000\tf(x2) = -22.3236\tf(x3) = -19.0000\tf(x4) = -22.3869\n",
      "xopt = 3.1944\tepa = 1.6149 x1 = 3.1429\tx2 = 3.1944\tx3 = 4.0000\tx4 = 3.2655\n",
      "f(x1) = -22.3236\tf(x2) = -22.3869\tf(x3) = -19.0000\tf(x4) = -22.4253\n",
      "xopt = 3.2655\tepa = 2.1759 x1 = 3.1944\tx2 = 3.2655\tx3 = 4.0000\tx4 = 3.2718\n",
      "f(x1) = -22.3869\tf(x2) = -22.4253\tf(x3) = -19.0000\tf(x4) = -22.4259\n",
      "xopt = 3.2718\tepa = 0.1925 x1 = 3.2655\tx2 = 3.2718\tx3 = 4.0000\tx4 = 3.2761\n",
      "f(x1) = -22.4253\tf(x2) = -22.4259\tf(x3) = -19.0000\tf(x4) = -22.4261\n",
      "xopt = 3.2761\tepa = 0.1304 x1 = 3.2718\tx2 = 3.2761\tx3 = 4.0000\tx4 = 3.2766\n",
      "f(x1) = -22.4259\tf(x2) = -22.4261\tf(x3) = -19.0000\tf(x4) = -22.4261\n",
      "xopt = 3.2766\tepa = 0.0177 x1 = 3.2761\tx2 = 3.2766\tx3 = 4.0000\tx4 = 3.2769\n",
      "f(x1) = -22.4261\tf(x2) = -22.4261\tf(x3) = -19.0000\tf(x4) = -22.4261\n",
      "xopt = 3.2769\tepa = 0.0082 x1 = 3.2766\tx2 = 3.2769\tx3 = 4.0000\tx4 = 3.2770\n",
      "f(x1) = -22.4261\tf(x2) = -22.4261\tf(x3) = -19.0000\tf(x4) = -22.4261\n",
      "xopt = 3.2770\tepa = 0.0014 "
     ]
    }
   ],
   "metadata": {}
  }
 ],
 "metadata": {
  "orig_nbformat": 4,
  "language_info": {
   "name": "python",
   "version": "3.8.8",
   "mimetype": "text/x-python",
   "codemirror_mode": {
    "name": "ipython",
    "version": 3
   },
   "pygments_lexer": "ipython3",
   "nbconvert_exporter": "python",
   "file_extension": ".py"
  },
  "kernelspec": {
   "name": "python3",
   "display_name": "Python 3.8.8 64-bit ('base': conda)"
  },
  "interpreter": {
   "hash": "6d46af94c2bbce495f1e668725902fa517c90b1782bcfe2fce0dd9868df553d3"
  }
 },
 "nbformat": 4,
 "nbformat_minor": 2
}