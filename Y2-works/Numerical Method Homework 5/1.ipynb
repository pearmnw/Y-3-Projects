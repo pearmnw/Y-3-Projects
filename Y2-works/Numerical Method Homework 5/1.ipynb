{
 "cells": [
  {
   "cell_type": "code",
   "execution_count": 1,
   "source": [
    "# homework 5.1 maximum element of a list"
   ],
   "outputs": [],
   "metadata": {}
  },
  {
   "cell_type": "code",
   "execution_count": 2,
   "source": [
    "def getMaxDP(list,n):\r\n",
    "    # list is the list, n is the size of list\r\n",
    "    if n == 1:\r\n",
    "        return list[0]\r\n",
    "    elif n == 2:\r\n",
    "        if list[0] > list[1]:\r\n",
    "            return list[0]\r\n",
    "        else: return list[1]\r\n",
    "    else:\r\n",
    "        mid = n//2 # floor division\r\n",
    "        list_left = list[:mid].copy()\r\n",
    "        list_right = list[mid:].copy()\r\n",
    "        max_left = getMaxDP(list_left, len(list_left))\r\n",
    "        max_right = getMaxDP(list_right, len(list_right))\r\n",
    "        if max_left > max_right:\r\n",
    "            return max_left\r\n",
    "        else:\r\n",
    "            return max_right\r\n",
    "        # end if(2)\r\n",
    "    #end if(1)\r\n",
    "# end function"
   ],
   "outputs": [],
   "metadata": {}
  },
  {
   "cell_type": "code",
   "execution_count": 3,
   "source": [
    "list1 = [1, 4, 45, 6, -50, 10, 2]\r\n",
    "n = len(list1)\r\n",
    "maxlist1 = getMaxDP(list1,n)\r\n",
    "print('Max of this list is: %3.3f' %(maxlist1))"
   ],
   "outputs": [
    {
     "output_type": "stream",
     "name": "stdout",
     "text": [
      "Max of this list is: 45.000\n"
     ]
    }
   ],
   "metadata": {}
  }
 ],
 "metadata": {
  "orig_nbformat": 4,
  "language_info": {
   "name": "python",
   "version": "3.8.8",
   "mimetype": "text/x-python",
   "codemirror_mode": {
    "name": "ipython",
    "version": 3
   },
   "pygments_lexer": "ipython3",
   "nbconvert_exporter": "python",
   "file_extension": ".py"
  },
  "kernelspec": {
   "name": "python3",
   "display_name": "Python 3.8.8 64-bit ('base': conda)"
  },
  "interpreter": {
   "hash": "6d46af94c2bbce495f1e668725902fa517c90b1782bcfe2fce0dd9868df553d3"
  }
 },
 "nbformat": 4,
 "nbformat_minor": 2
}