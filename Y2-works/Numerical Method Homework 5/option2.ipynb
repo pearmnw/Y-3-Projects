{
 "cells": [
  {
   "cell_type": "code",
   "execution_count": 1,
   "source": [
    "# homework 5.3 equal interval search\r\n",
    "import math\r\n",
    "import numpy as np\r\n",
    "import matplotlib.pyplot as plt"
   ],
   "outputs": [],
   "metadata": {}
  },
  {
   "cell_type": "code",
   "execution_count": 2,
   "source": [
    "def f(x):\r\n",
    "    return (x**3)-(6*(x**2))+(4*x)+12\r\n",
    "\r\n",
    "def f2(x):\r\n",
    "    return (x**3)-(4*(x**2))-(6*x)+5"
   ],
   "outputs": [],
   "metadata": {}
  },
  {
   "cell_type": "code",
   "execution_count": 3,
   "source": [
    "# visualize fx and dfx\r\n",
    "fig = plt.figure(figsize = (10,6))\r\n",
    "x = np.arange(-2,6,0.1)\r\n",
    "y = f(x)\r\n",
    "plt.plot(x, y, c = 'b', label = 'fx')\r\n",
    "plt.grid(True, which='both')\r\n",
    "plt.axhline(y = 0, color='k')\r\n",
    "plt.legend()\r\n",
    "plt.show()"
   ],
   "outputs": [
    {
     "output_type": "display_data",
     "data": {
      "image/png": "[encoded data removed]",
      "text/plain": [
       "<Figure size 720x432 with 1 Axes>"
      ]
     },
     "metadata": {
      "needs_background": "light"
     }
    }
   ],
   "metadata": {}
  },
  {
   "cell_type": "code",
   "execution_count": 4,
   "source": [
    "def eq_interval_max(a,b,prev_xmax,op):\r\n",
    "    xm = (a+b)/2\r\n",
    "    epsilon = 0.0001 # smaller will closer\r\n",
    "    eps = 0.005 #stop critirion\r\n",
    "    xml = xm - (epsilon/2) #calculate xml\r\n",
    "    xmr = xm + (epsilon/2) #calculate xmr\r\n",
    "    print('initial interval = (%3.3f,%3.3f) prev_xmax = %3.3f' %(a,b,prev_xmax))\r\n",
    "    if op == 1:\r\n",
    "        fxml = f(xml)\r\n",
    "        fxmr = f(xmr)\r\n",
    "    elif op == 2:\r\n",
    "        fxml = f2(xml)\r\n",
    "        fxmr = f2(xmr)\r\n",
    "    #end if\r\n",
    "    if fxml > fxmr: #page14/lecture5\r\n",
    "        xmax = xml # a = a\r\n",
    "        b = xmr\r\n",
    "    else: #page15/lecture5\r\n",
    "        xmax = xmr\r\n",
    "        a = xml\r\n",
    "    #end if\r\n",
    "    epa = abs((xmax-prev_xmax)/xmax)*100\r\n",
    "    print('found xmax = %3.3f new interval = (%3.3f,%3.3f) epa = %3.4f' %(xmax,a,b,epa))\r\n",
    "    if epa < eps:\r\n",
    "        return xmax\r\n",
    "    else:\r\n",
    "        return eq_interval_max(a,b,xmax,op)\r\n",
    "    #end if \r\n",
    "#end function\r\n"
   ],
   "outputs": [],
   "metadata": {}
  },
  {
   "cell_type": "code",
   "execution_count": 5,
   "source": [
    "a = -1 #from the graph\r\n",
    "b = 2 #from the graph\r\n",
    "prev_xmax = -100\r\n",
    "op = 1\r\n",
    "xmax = eq_interval_max(a,b,prev_xmax,op)"
   ],
   "outputs": [
    {
     "output_type": "stream",
     "name": "stdout",
     "text": [
      "initial interval = (-1.000,2.000) prev_xmax = -100.000\n",
      "found xmax = 0.500 new interval = (-1.000,0.500) epa = 20102.0002\n",
      "initial interval = (-1.000,0.500) prev_xmax = 0.500\n",
      "found xmax = -0.250 new interval = (-0.250,0.500) epa = 300.0400\n",
      "initial interval = (-0.250,0.500) prev_xmax = -0.250\n",
      "found xmax = 0.125 new interval = (0.125,0.500) epa = 299.8401\n",
      "initial interval = (0.125,0.500) prev_xmax = 0.125\n",
      "found xmax = 0.313 new interval = (0.312,0.500) epa = 59.9872\n",
      "initial interval = (0.312,0.500) prev_xmax = 0.313\n",
      "found xmax = 0.406 new interval = (0.312,0.406) epa = 23.0542\n",
      "initial interval = (0.312,0.406) prev_xmax = 0.406\n",
      "found xmax = 0.359 new interval = (0.359,0.406) epa = 13.0132\n",
      "initial interval = (0.359,0.406) prev_xmax = 0.359\n",
      "found xmax = 0.383 new interval = (0.359,0.383) epa = 6.0969\n",
      "initial interval = (0.359,0.383) prev_xmax = 0.383\n",
      "found xmax = 0.371 new interval = (0.359,0.371) epa = 3.1582\n",
      "initial interval = (0.359,0.371) prev_xmax = 0.371\n",
      "found xmax = 0.365 new interval = (0.365,0.371) epa = 1.5766\n",
      "initial interval = (0.365,0.371) prev_xmax = 0.365\n",
      "found xmax = 0.368 new interval = (0.365,0.368) epa = 0.7687\n",
      "initial interval = (0.365,0.368) prev_xmax = 0.368\n",
      "found xmax = 0.367 new interval = (0.367,0.368) epa = 0.3721\n",
      "initial interval = (0.367,0.368) prev_xmax = 0.367\n",
      "found xmax = 0.367 new interval = (0.367,0.367) epa = 0.1721\n",
      "initial interval = (0.367,0.367) prev_xmax = 0.367\n",
      "found xmax = 0.367 new interval = (0.367,0.367) epa = 0.0998\n",
      "initial interval = (0.367,0.367) prev_xmax = 0.367\n",
      "found xmax = 0.367 new interval = (0.367,0.367) epa = 0.0226\n",
      "initial interval = (0.367,0.367) prev_xmax = 0.367\n",
      "found xmax = 0.367 new interval = (0.367,0.367) epa = 0.0249\n",
      "initial interval = (0.367,0.367) prev_xmax = 0.367\n",
      "found xmax = 0.367 new interval = (0.367,0.367) epa = 0.0148\n",
      "initial interval = (0.367,0.367) prev_xmax = 0.367\n",
      "found xmax = 0.367 new interval = (0.367,0.367) epa = 0.0210\n",
      "initial interval = (0.367,0.367) prev_xmax = 0.367\n",
      "found xmax = 0.367 new interval = (0.367,0.367) epa = 0.0241\n",
      "initial interval = (0.367,0.367) prev_xmax = 0.367\n",
      "found xmax = 0.367 new interval = (0.367,0.367) epa = 0.0016\n"
     ]
    }
   ],
   "metadata": {}
  },
  {
   "cell_type": "code",
   "execution_count": 6,
   "source": [
    "def eq_interval_min(a,b,prev_xmin,op):\r\n",
    "    xm = (a+b)/2\r\n",
    "    epsilon = 0.0005 # smaller will closer\r\n",
    "    eps = 0.005 #stop critirion\r\n",
    "    xml = xm - (epsilon/2) #calculate xml\r\n",
    "    xmr = xm + (epsilon/2) #calculate xmr\r\n",
    "    print('initial interval = (%3.3f,%3.3f) prev_xmin = %3.3f' %(a,b,prev_xmin))\r\n",
    "    if op == 1:\r\n",
    "        fxml = f(xml)\r\n",
    "        fxmr = f(xmr)\r\n",
    "    elif op == 2:\r\n",
    "        fxml = f2(xml)\r\n",
    "        fxmr = f2(xmr)\r\n",
    "    #end if\r\n",
    "    if fxml > fxmr:\r\n",
    "        xmin = xmr\r\n",
    "        a = xml\r\n",
    "    else:\r\n",
    "        xmin = xml\r\n",
    "        b = xmr\r\n",
    "    #end if\r\n",
    "    epa = abs((xmin-prev_xmin)/xmin)*100\r\n",
    "    print('found xmin = %3.3f new interval = (%3.3f,%3.3f) epa = %3.4f' %(xmin,a,b,epa))\r\n",
    "    if epa < eps:\r\n",
    "        return xmin\r\n",
    "    else:\r\n",
    "        return eq_interval_min(a,b,xmin,op)\r\n",
    "    #end if \r\n",
    "#end function\r\n"
   ],
   "outputs": [],
   "metadata": {}
  },
  {
   "cell_type": "code",
   "execution_count": 7,
   "source": [
    "a = 2 #from the graph\r\n",
    "b = 5 #from the graph\r\n",
    "prev_xmin = 100\r\n",
    "op = 1\r\n",
    "xmin = eq_interval_min(a,b,prev_xmin,op)"
   ],
   "outputs": [
    {
     "output_type": "stream",
     "name": "stdout",
     "text": [
      "initial interval = (2.000,5.000) prev_xmin = 100.000\n",
      "found xmin = 3.500 new interval = (3.500,5.000) epa = 2756.9388\n",
      "initial interval = (3.500,5.000) prev_xmin = 3.500\n",
      "found xmin = 4.250 new interval = (3.500,4.250) epa = 17.6339\n",
      "initial interval = (3.500,4.250) prev_xmin = 4.250\n",
      "found xmin = 3.875 new interval = (3.500,3.875) epa = 9.6766\n",
      "initial interval = (3.500,3.875) prev_xmin = 3.875\n",
      "found xmin = 3.687 new interval = (3.500,3.688) epa = 5.0843\n",
      "initial interval = (3.500,3.688) prev_xmin = 3.687\n",
      "found xmin = 3.594 new interval = (3.593,3.688) epa = 2.5942\n",
      "initial interval = (3.593,3.688) prev_xmin = 3.594\n",
      "found xmin = 3.640 new interval = (3.593,3.641) epa = 1.2737\n",
      "initial interval = (3.593,3.641) prev_xmin = 3.640\n",
      "found xmin = 3.617 new interval = (3.617,3.641) epa = 0.6340\n",
      "initial interval = (3.617,3.641) prev_xmin = 3.617\n",
      "found xmin = 3.629 new interval = (3.629,3.641) epa = 0.3229\n",
      "initial interval = (3.629,3.641) prev_xmin = 3.629\n",
      "found xmin = 3.634 new interval = (3.629,3.635) epa = 0.1474\n",
      "initial interval = (3.629,3.635) prev_xmin = 3.634\n",
      "found xmin = 3.632 new interval = (3.632,3.635) epa = 0.0669\n",
      "initial interval = (3.632,3.635) prev_xmin = 3.632\n",
      "found xmin = 3.633 new interval = (3.632,3.634) epa = 0.0266\n",
      "initial interval = (3.632,3.634) prev_xmin = 3.633\n",
      "found xmin = 3.633 new interval = (3.632,3.634) epa = 0.0064\n",
      "initial interval = (3.632,3.634) prev_xmin = 3.633\n",
      "found xmin = 3.633 new interval = (3.633,3.634) epa = 0.0101\n",
      "initial interval = (3.633,3.634) prev_xmin = 3.633\n",
      "found xmin = 3.633 new interval = (3.633,3.633) epa = 0.0087\n",
      "initial interval = (3.633,3.633) prev_xmin = 3.633\n",
      "found xmin = 3.633 new interval = (3.633,3.633) epa = 0.0025\n"
     ]
    }
   ],
   "metadata": {}
  },
  {
   "cell_type": "code",
   "execution_count": 8,
   "source": [
    "# visualize fx and dfx\r\n",
    "fig = plt.figure(figsize = (10,6))\r\n",
    "x = np.arange(-2,6,0.1)\r\n",
    "y = f2(x)\r\n",
    "plt.plot(x, y, c = 'm', label = 'fx')\r\n",
    "plt.grid(True, which='both')\r\n",
    "plt.axhline(y = 0, color='k')\r\n",
    "plt.legend()\r\n",
    "plt.show()"
   ],
   "outputs": [
    {
     "output_type": "display_data",
     "data": {
      "image/png": "[encoded data removed]",
      "text/plain": [
       "<Figure size 720x432 with 1 Axes>"
      ]
     },
     "metadata": {
      "needs_background": "light"
     }
    }
   ],
   "metadata": {}
  },
  {
   "cell_type": "code",
   "execution_count": 9,
   "source": [
    "a = -2 #from the graph\r\n",
    "b = 2 #from the graph\r\n",
    "prev_xmax = -100\r\n",
    "op = 2\r\n",
    "xmax = eq_interval_max(a,b,prev_xmax,op)"
   ],
   "outputs": [
    {
     "output_type": "stream",
     "name": "stdout",
     "text": [
      "initial interval = (-2.000,2.000) prev_xmax = -100.000\n",
      "found xmax = -0.000 new interval = (-2.000,0.000) epa = 199999900.0000\n",
      "initial interval = (-2.000,0.000) prev_xmax = -0.000\n",
      "found xmax = -1.000 new interval = (-1.000,0.000) epa = 99.9950\n",
      "initial interval = (-1.000,0.000) prev_xmax = -1.000\n",
      "found xmax = -0.500 new interval = (-1.000,-0.500) epa = 99.9700\n",
      "initial interval = (-1.000,-0.500) prev_xmax = -0.500\n",
      "found xmax = -0.750 new interval = (-0.750,-0.500) epa = 33.3222\n",
      "initial interval = (-0.750,-0.500) prev_xmax = -0.750\n",
      "found xmax = -0.625 new interval = (-0.625,-0.500) epa = 20.0016\n",
      "initial interval = (-0.625,-0.500) prev_xmax = -0.625\n",
      "found xmax = -0.563 new interval = (-0.625,-0.562) epa = 11.0923\n",
      "initial interval = (-0.625,-0.562) prev_xmax = -0.563\n",
      "found xmax = -0.594 new interval = (-0.625,-0.594) epa = 5.2627\n",
      "initial interval = (-0.625,-0.594) prev_xmax = -0.594\n",
      "found xmax = -0.609 new interval = (-0.625,-0.609) epa = 2.5639\n",
      "initial interval = (-0.625,-0.609) prev_xmax = -0.609\n",
      "found xmax = -0.617 new interval = (-0.617,-0.609) epa = 1.2497\n",
      "initial interval = (-0.617,-0.609) prev_xmax = -0.617\n",
      "found xmax = -0.613 new interval = (-0.613,-0.609) epa = 0.6370\n",
      "initial interval = (-0.613,-0.609) prev_xmax = -0.613\n",
      "found xmax = -0.611 new interval = (-0.611,-0.609) epa = 0.3195\n",
      "initial interval = (-0.611,-0.609) prev_xmax = -0.611\n",
      "found xmax = -0.610 new interval = (-0.610,-0.609) epa = 0.1600\n",
      "initial interval = (-0.610,-0.609) prev_xmax = -0.610\n",
      "found xmax = -0.610 new interval = (-0.610,-0.610) epa = 0.0637\n",
      "initial interval = (-0.610,-0.610) prev_xmax = -0.610\n",
      "found xmax = -0.610 new interval = (-0.610,-0.610) epa = 0.0400\n",
      "initial interval = (-0.610,-0.610) prev_xmax = -0.610\n",
      "found xmax = -0.610 new interval = (-0.610,-0.610) epa = 0.0200\n",
      "initial interval = (-0.610,-0.610) prev_xmax = -0.610\n",
      "found xmax = -0.610 new interval = (-0.610,-0.610) epa = 0.0100\n",
      "initial interval = (-0.610,-0.610) prev_xmax = -0.610\n",
      "found xmax = -0.610 new interval = (-0.610,-0.610) epa = 0.0050\n"
     ]
    }
   ],
   "metadata": {}
  },
  {
   "cell_type": "code",
   "execution_count": 10,
   "source": [
    "a = 2\r\n",
    "b = 4\r\n",
    "prev_xmin = 100\r\n",
    "op = 2\r\n",
    "xmin = eq_interval_min(a,b,prev_xmin,op)"
   ],
   "outputs": [
    {
     "output_type": "stream",
     "name": "stdout",
     "text": [
      "initial interval = (2.000,4.000) prev_xmin = 100.000\n",
      "found xmin = 3.000 new interval = (3.000,4.000) epa = 3233.0556\n",
      "initial interval = (3.000,4.000) prev_xmin = 3.000\n",
      "found xmin = 3.500 new interval = (3.000,3.500) epa = 14.2694\n",
      "initial interval = (3.000,3.500) prev_xmin = 3.500\n",
      "found xmin = 3.250 new interval = (3.250,3.500) epa = 7.6746\n",
      "initial interval = (3.250,3.500) prev_xmin = 3.250\n",
      "found xmin = 3.375 new interval = (3.250,3.375) epa = 3.6883\n",
      "initial interval = (3.250,3.375) prev_xmin = 3.375\n",
      "found xmin = 3.312 new interval = (3.250,3.313) epa = 1.8865\n",
      "initial interval = (3.250,3.313) prev_xmin = 3.312\n",
      "found xmin = 3.281 new interval = (3.250,3.281) epa = 0.9522\n",
      "initial interval = (3.250,3.281) prev_xmin = 3.281\n",
      "found xmin = 3.266 new interval = (3.265,3.281) epa = 0.4630\n",
      "initial interval = (3.265,3.281) prev_xmin = 3.266\n",
      "found xmin = 3.274 new interval = (3.273,3.281) epa = 0.2386\n",
      "initial interval = (3.273,3.281) prev_xmin = 3.274\n",
      "found xmin = 3.277 new interval = (3.273,3.278) epa = 0.1039\n",
      "initial interval = (3.273,3.278) prev_xmin = 3.277\n",
      "found xmin = 3.276 new interval = (3.275,3.278) epa = 0.0443\n",
      "initial interval = (3.275,3.278) prev_xmin = 3.276\n",
      "found xmin = 3.277 new interval = (3.276,3.278) epa = 0.0298\n",
      "initial interval = (3.276,3.278) prev_xmin = 3.277\n",
      "found xmin = 3.277 new interval = (3.277,3.278) epa = 0.0149\n",
      "initial interval = (3.277,3.278) prev_xmin = 3.277\n",
      "found xmin = 3.277 new interval = (3.277,3.277) epa = 0.0078\n",
      "initial interval = (3.277,3.277) prev_xmin = 3.277\n",
      "found xmin = 3.277 new interval = (3.277,3.277) epa = 0.0115\n",
      "initial interval = (3.277,3.277) prev_xmin = 3.277\n",
      "found xmin = 3.277 new interval = (3.277,3.277) epa = 0.0019\n"
     ]
    }
   ],
   "metadata": {}
  }
 ],
 "metadata": {
  "orig_nbformat": 4,
  "language_info": {
   "name": "python",
   "version": "3.8.8",
   "mimetype": "text/x-python",
   "codemirror_mode": {
    "name": "ipython",
    "version": 3
   },
   "pygments_lexer": "ipython3",
   "nbconvert_exporter": "python",
   "file_extension": ".py"
  },
  "kernelspec": {
   "name": "python3",
   "display_name": "Python 3.8.8 64-bit ('base': conda)"
  },
  "interpreter": {
   "hash": "6d46af94c2bbce495f1e668725902fa517c90b1782bcfe2fce0dd9868df553d3"
  }
 },
 "nbformat": 4,
 "nbformat_minor": 2
}