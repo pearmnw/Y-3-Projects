{
 "cells": [
  {
   "cell_type": "code",
   "execution_count": 53,
   "metadata": {},
   "outputs": [],
   "source": [
    "# 2. Modify the code for Gauss-Jordan Elimination such that you can find the inverse of a matrix A.  A = [[3,0,2],[2,0,-2],[0,1,1]].\n",
    "import numpy as np\n",
    "import sys"
   ]
  },
  {
   "cell_type": "code",
   "execution_count": 54,
   "metadata": {},
   "outputs": [],
   "source": [
    "def issquare(r,c):\n",
    "    if r == c:\n",
    "        return True\n",
    "    else: False"
   ]
  },
  {
   "cell_type": "code",
   "execution_count": 55,
   "metadata": {},
   "outputs": [],
   "source": [
    "# Augmenting Identity Matrix of Order n\n",
    "def identityMatrix(m):\n",
    "    [nr,nc] = m.shape\n",
    "    idm = np.zeros((nr,2*nr))\n",
    "    if issquare(nr,nc):    \n",
    "        for r in range(nr):        \n",
    "            for c in range(nc):\n",
    "                idm[r][c] = m[r][c]\n",
    "                if r == c:\n",
    "                    idm[r][c+nr] = 1\n",
    "        return idm\n",
    "    else: return idm\n",
    "\n",
    "# Applying Guass Jordan Elimination\n",
    "def guassJordan(m):\n",
    "    [nr,nc] = m.shape\n",
    "    for i in range(nr):\n",
    "        if m[i][i] == 0.0:\n",
    "            sys.exit('Divide by zero detected!')\n",
    "        for j in range(nr):\n",
    "            if i != j:\n",
    "                ratio = m[j][i]/m[i][i]\n",
    "                for k in range(2*nr):\n",
    "                    m[j][k] = m[j][k] - ratio * m[i][k]\n",
    "\n",
    "    # Row operation to make principal diagonal element to 1\n",
    "    for i in range(nr):\n",
    "        divisor = m[i][i]\n",
    "        for j in range(2*nr):\n",
    "            m[i][j] = m[i][j]/divisor\n",
    "    return m"
   ]
  },
  {
   "cell_type": "code",
   "execution_count": 56,
   "metadata": {},
   "outputs": [
    {
     "name": "stdout",
     "output_type": "stream",
     "text": [
      "[[ 1  1  3]\n",
      " [ 1  3 -3]\n",
      " [-2 -4 -4]]\n"
     ]
    }
   ],
   "source": [
    "A = np.array([[1,1,3],[1,3,-3],[-2,-4,-4]])\n",
    "print(A)"
   ]
  },
  {
   "cell_type": "code",
   "execution_count": 57,
   "metadata": {},
   "outputs": [
    {
     "name": "stdout",
     "output_type": "stream",
     "text": [
      "The Gauss-Jordan Elimination is:\n",
      "[[ 1.    0.    0.    3.    1.    1.5 ]\n",
      " [ 0.    1.    0.   -1.25 -0.25 -0.75]\n",
      " [-0.   -0.    1.   -0.25 -0.25 -0.25]]\n",
      "The inverse is:\n",
      "[[ 3.    1.    1.5 ]\n",
      " [-1.25 -0.25 -0.75]\n",
      " [-0.25 -0.25 -0.25]]\n"
     ]
    }
   ],
   "source": [
    "ident = identityMatrix(A)\n",
    "# print(ident)\n",
    "inv = guassJordan(ident)\n",
    "print('The Gauss-Jordan Elimination is:')\n",
    "print(inv)\n",
    "print('The inverse is:')\n",
    "print(np.linalg.inv(A))"
   ]
  }
 ],
 "metadata": {
  "interpreter": {
   "hash": "6d46af94c2bbce495f1e668725902fa517c90b1782bcfe2fce0dd9868df553d3"
  },
  "kernelspec": {
   "display_name": "Python 3.8.8 64-bit ('base': conda)",
   "name": "python3"
  },
  "language_info": {
   "codemirror_mode": {
    "name": "ipython",
    "version": 3
   },
   "file_extension": ".py",
   "mimetype": "text/x-python",
   "name": "python",
   "nbconvert_exporter": "python",
   "pygments_lexer": "ipython3",
   "version": "3.8.8"
  },
  "orig_nbformat": 4
 },
 "nbformat": 4,
 "nbformat_minor": 2
}
