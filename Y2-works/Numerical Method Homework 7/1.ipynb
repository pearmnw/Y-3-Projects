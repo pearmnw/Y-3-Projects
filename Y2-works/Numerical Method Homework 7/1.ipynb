{
 "cells": [
  {
   "cell_type": "code",
   "execution_count": 56,
   "metadata": {},
   "outputs": [],
   "source": [
    "# 1.Modify the Gauss's Elimination code provided in the lecture 7 to include part 1 of the row echelon procedure (to normalize the first non-zero coefficient to 1).\n",
    "import numpy as np"
   ]
  },
  {
   "cell_type": "code",
   "execution_count": 57,
   "metadata": {},
   "outputs": [],
   "source": [
    "def fwd_gauss_recursive(Ab):\n",
    "    # check the size of the augmented matrix\n",
    "    [nr,nc] = Ab.shape\n",
    "    print('nr = ', nr)\n",
    "    if nc != nr + 1:\n",
    "        print('Error: inappropriate matrix size')\n",
    "    else:\n",
    "        if nr == 1:\n",
    "            GEM = Ab\n",
    "        else:\n",
    "            for r in range(0,nr):\n",
    "                # normalizing row r\n",
    "                k = Ab[r,r]\n",
    "                Ab[r,:] = (1/k) * Ab[r,:]\n",
    "            # perform GaussElimination from the 2nd row onwards\n",
    "                for i in range(r+1,nr):\n",
    "                    row_factor = Ab[i,0]/Ab[0,0]\n",
    "                    Ab[i,:] = Ab[i,:] - row_factor * Ab[0,:]\n",
    "                # end for each row r\n",
    "            GEM = Ab\n",
    "            # remove first row and first column for the next recursion\n",
    "            GEM_next_input = GEM[1:nr,1:nc]\n",
    "            GEM_next_output = fwd_gauss_recursive(GEM_next_input)\n",
    "        # end if (nr==1)\n",
    "    # end if (nc != nr + 1)\n",
    "    print(GEM)\n",
    "    return GEM"
   ]
  },
  {
   "cell_type": "code",
   "execution_count": 58,
   "metadata": {},
   "outputs": [],
   "source": [
    "Ab = np.array([(4.0,-2.0,1.0,8.0),\n",
    "               (1.0,1.0,1.0,-13.0),\n",
    "               (9.0,3.0,1.0,3.0)])\n"
   ]
  },
  {
   "cell_type": "code",
   "execution_count": 59,
   "metadata": {},
   "outputs": [
    {
     "name": "stdout",
     "output_type": "stream",
     "text": [
      "Ab = \n",
      "[[  4.  -2.   1.   8.]\n",
      " [  1.   1.   1. -13.]\n",
      " [  9.   3.   1.   3.]]\n"
     ]
    }
   ],
   "source": [
    "print('Ab = ')\n",
    "print(Ab)\n"
   ]
  },
  {
   "cell_type": "code",
   "execution_count": 60,
   "metadata": {},
   "outputs": [
    {
     "name": "stdout",
     "output_type": "stream",
     "text": [
      "nr =  3\n",
      "nr =  2\n",
      "nr =  1\n",
      "[[  1. -12.]]\n",
      "[[  1.    0.5 -10. ]\n",
      " [  0.    1.  -12. ]]\n",
      "[[  1.    -0.5    0.25   2.  ]\n",
      " [  0.     1.     0.5  -10.  ]\n",
      " [ -0.     0.     1.   -12.  ]]\n",
      "GAb = \n",
      "[[  1.    -0.5    0.25   2.  ]\n",
      " [  0.     1.     0.5  -10.  ]\n",
      " [ -0.     0.     1.   -12.  ]]\n"
     ]
    }
   ],
   "source": [
    "GAb = fwd_gauss_recursive(Ab)\n",
    "print('GAb = ')\n",
    "print(GAb)"
   ]
  }
 ],
 "metadata": {
  "interpreter": {
   "hash": "6d46af94c2bbce495f1e668725902fa517c90b1782bcfe2fce0dd9868df553d3"
  },
  "kernelspec": {
   "display_name": "Python 3.8.8 64-bit ('base': conda)",
   "name": "python3"
  },
  "language_info": {
   "codemirror_mode": {
    "name": "ipython",
    "version": 3
   },
   "file_extension": ".py",
   "mimetype": "text/x-python",
   "name": "python",
   "nbconvert_exporter": "python",
   "pygments_lexer": "ipython3",
   "version": "3.8.8"
  },
  "orig_nbformat": 4
 },
 "nbformat": 4,
 "nbformat_minor": 2
}
