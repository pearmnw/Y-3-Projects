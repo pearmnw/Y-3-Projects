{
 "cells": [
  {
   "cell_type": "code",
   "execution_count": 8,
   "source": [
    "# 1. Fixed point iteration to solve the equation x^4 - 2x - 10 = 0"
   ],
   "outputs": [],
   "metadata": {}
  },
  {
   "cell_type": "code",
   "execution_count": 9,
   "source": [
    "def f(x):\r\n",
    "    return (x**4)-(2*x)-10\r\n",
    "#end function"
   ],
   "outputs": [],
   "metadata": {}
  },
  {
   "cell_type": "code",
   "execution_count": 10,
   "source": [
    "def g1(x):\r\n",
    "    return (10+(2*x))**(1/4)\r\n",
    "#end function"
   ],
   "outputs": [],
   "metadata": {}
  },
  {
   "cell_type": "code",
   "execution_count": 11,
   "source": [
    "def g2(x):\r\n",
    "    return (10/(x**3))-5\r\n",
    "#end function"
   ],
   "outputs": [],
   "metadata": {}
  },
  {
   "cell_type": "code",
   "execution_count": 12,
   "source": [
    "def fixed_point(x0,op):\r\n",
    "    xr_prev = x0\r\n",
    "    epa = 1\r\n",
    "    eps = 0.005\r\n",
    "    xr = 1\r\n",
    "    while epa > eps:\r\n",
    "        if op==1:\r\n",
    "            xr = g1(xr_prev)\r\n",
    "        elif op==2:\r\n",
    "            xr = g2(xr_prev)\r\n",
    "        epa = abs(100*((xr - xr_prev)/xr))\r\n",
    "        print('xr = {} epa = {}'.format(xr,epa))\r\n",
    "        xr_prev = xr\r\n",
    "    #end while loop\r\n",
    "    print('final xr = ', xr)\r\n",
    "    return xr\r\n",
    "# end function\r\n"
   ],
   "outputs": [],
   "metadata": {}
  },
  {
   "cell_type": "code",
   "execution_count": 13,
   "source": [
    "xr = fixed_point(1,1)\r\n",
    "print('================================================')\r\n",
    "xr = fixed_point(-1,2)"
   ],
   "outputs": [
    {
     "output_type": "stream",
     "name": "stdout",
     "text": [
      "xr = 1.8612097182041991 epa = 46.2715034088229\n",
      "xr = 1.9246761842736926 epa = 3.297513970821204\n",
      "xr = 1.9291116612033807 epa = 0.22992328639604517\n",
      "xr = 1.9294205014846304 epa = 0.016006893313926327\n",
      "xr = 1.9294420003736645 epa = 0.0011142542263498565\n",
      "final xr =  1.9294420003736645\n",
      "================================================\n",
      "xr = -15.0 epa = 93.33333333333333\n",
      "xr = -5.002962962962963 epa = 199.82232750962393\n",
      "xr = -5.079857946171118 epa = 1.5137231005861849\n",
      "xr = -5.0762860795829825 epa = 0.07036377643296442\n",
      "xr = -5.076447226218131 epa = 0.0031743979197991065\n",
      "final xr =  -5.076447226218131\n"
     ]
    }
   ],
   "metadata": {}
  }
 ],
 "metadata": {
  "orig_nbformat": 4,
  "language_info": {
   "name": "python",
   "version": "3.8.8",
   "mimetype": "text/x-python",
   "codemirror_mode": {
    "name": "ipython",
    "version": 3
   },
   "pygments_lexer": "ipython3",
   "nbconvert_exporter": "python",
   "file_extension": ".py"
  },
  "kernelspec": {
   "name": "python3",
   "display_name": "Python 3.8.8 64-bit ('base': conda)"
  },
  "interpreter": {
   "hash": "6d46af94c2bbce495f1e668725902fa517c90b1782bcfe2fce0dd9868df553d3"
  }
 },
 "nbformat": 4,
 "nbformat_minor": 2
}