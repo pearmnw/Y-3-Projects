{
 "cells": [
  {
   "cell_type": "code",
   "execution_count": 10,
   "source": [
    "# 2. Newton's method to solve the equations x4-2x-10 = 0 and ex + sqrt(x) - 2x - 5 = 0"
   ],
   "outputs": [],
   "metadata": {}
  },
  {
   "cell_type": "code",
   "execution_count": 11,
   "source": [
    "import numpy as np\r\n",
    "import math\r\n",
    "import sympy"
   ],
   "outputs": [],
   "metadata": {}
  },
  {
   "cell_type": "code",
   "execution_count": 12,
   "source": [
    "# define x and f symbolically using sympy\r\n",
    "# x4-2x-10 = 0 \r\n",
    "x = sympy.Symbol('x')\r\n",
    "f = (x**4)-(2*x)-10\r\n",
    "df = f.diff(x)\r\n",
    "f = sympy.lambdify(x,f)\r\n",
    "df = sympy.lambdify(x,df)"
   ],
   "outputs": [],
   "metadata": {}
  },
  {
   "cell_type": "code",
   "execution_count": 13,
   "source": [
    "def newtonraphson(x0):\r\n",
    "    xr_prev = x0\r\n",
    "    epa = 100\r\n",
    "    eps = 0.005\r\n",
    "    i = 0\r\n",
    "    while epa > eps:\r\n",
    "        i = i+1\r\n",
    "        xr = xr_prev - (f(xr_prev)/df(xr_prev))\r\n",
    "        epa = abs(100*((xr-xr_prev)/xr))\r\n",
    "        xr_prev = xr\r\n",
    "        print('#%2d:\\txr = %4.4f\\tepa = %4.4f' %(i,xr,epa))\r\n",
    "    # end while\r\n",
    "# end function"
   ],
   "outputs": [],
   "metadata": {}
  },
  {
   "cell_type": "code",
   "execution_count": 14,
   "source": [
    "x0 = -1\r\n",
    "print('For x4-2x-10 = 0:')\r\n",
    "xr = newtonraphson(x0)"
   ],
   "outputs": [
    {
     "output_type": "stream",
     "name": "stdout",
     "text": [
      "For x4-2x-10 = 0:\n",
      "# 1:\txr = -2.1667\tepa = 53.8462\n",
      "# 2:\txr = -1.7831\tepa = 21.5089\n",
      "# 3:\txr = -1.6342\tepa = 9.1149\n",
      "# 4:\txr = -1.6136\tepa = 1.2747\n",
      "# 5:\txr = -1.6133\tepa = 0.0222\n",
      "# 6:\txr = -1.6133\tepa = 0.0000\n"
     ]
    }
   ],
   "metadata": {}
  },
  {
   "cell_type": "code",
   "execution_count": 15,
   "source": [
    "# define x and f symbolically using sympy\r\n",
    "x = sympy.Symbol('x')\r\n",
    "e = math.e\r\n",
    "f = (e*x)+(x**(1/2))-(2*x)-5\r\n",
    "df = f.diff(x)\r\n",
    "f = sympy.lambdify(x,f)\r\n",
    "df = sympy.lambdify(x,df)"
   ],
   "outputs": [],
   "metadata": {}
  },
  {
   "cell_type": "code",
   "execution_count": 16,
   "source": [
    "print('For ex+sqrt(x)-2x-5= 0:')\r\n",
    "x0 = 1\r\n",
    "xr = newtonraphson(x0)"
   ],
   "outputs": [
    {
     "output_type": "stream",
     "name": "stdout",
     "text": [
      "For ex+sqrt(x)-2x-5= 0:\n",
      "# 1:\txr = 3.6937\tepa = 72.9271\n",
      "# 2:\txr = 4.1280\tepa = 10.5212\n",
      "# 3:\txr = 4.1313\tepa = 0.0788\n",
      "# 4:\txr = 4.1313\tepa = 0.0000\n"
     ]
    }
   ],
   "metadata": {}
  }
 ],
 "metadata": {
  "orig_nbformat": 4,
  "language_info": {
   "name": "python",
   "version": "3.8.8",
   "mimetype": "text/x-python",
   "codemirror_mode": {
    "name": "ipython",
    "version": 3
   },
   "pygments_lexer": "ipython3",
   "nbconvert_exporter": "python",
   "file_extension": ".py"
  },
  "kernelspec": {
   "name": "python3",
   "display_name": "Python 3.8.8 64-bit ('base': conda)"
  },
  "interpreter": {
   "hash": "6d46af94c2bbce495f1e668725902fa517c90b1782bcfe2fce0dd9868df553d3"
  }
 },
 "nbformat": 4,
 "nbformat_minor": 2
}